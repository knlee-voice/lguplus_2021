{
  "nbformat": 4,
  "nbformat_minor": 0,
  "metadata": {
    "colab": {
      "name": "Lab_02_Content_based_Recommendation.ipynb",
      "provenance": [],
      "collapsed_sections": [
        "apvJ4xjnquDL",
        "Ks6v0MRXN9lD"
      ],
      "toc_visible": true
    },
    "kernelspec": {
      "display_name": "Python 3",
      "name": "python3"
    }
  },
  "cells": [
    {
      "cell_type": "markdown",
      "metadata": {
        "id": "S6I4i_UlAQg0"
      },
      "source": [
        "# Lab 02. LGU+ 2021 Summer - Content-based Recommendation 실습\n",
        "\n",
        "## Table of Contents\n",
        "- Content-based Recommendation\n",
        "    - One-hot encoding -> similarity\n",
        "- Embedding-based Recommendation\n",
        "    - Prod2Vec\n",
        "- Association-based Recommendation\n",
        "    - AR (Association Rule)\n",
        "    - SR (Sequential Rule)\n",
        "    - MC (Markov Chain)\n",
        "- Appendix\n",
        "    - Pandas Basic Tutorial\n",
        "    - Text Preprocessing\n",
        "    - Word Representation"
      ]
    },
    {
      "cell_type": "markdown",
      "metadata": {
        "id": "ZsxfLg2JJDzG"
      },
      "source": [
        "### **자주 쓰는 단축키**<br>\n",
        "Ctrl + Enter: 셀 실행<br>\n",
        "Shift + Enter: 셀 실행후, 다음 셀로 이동<br>\n",
        "\n",
        "마크다운 (Markdown)을 수정하려면 더블클릭해주시면 됩니다."
      ]
    },
    {
      "cell_type": "markdown",
      "metadata": {
        "id": "ZEt4Z6HTi5zz"
      },
      "source": [
        "## 기본 패키지 import"
      ]
    },
    {
      "cell_type": "code",
      "metadata": {
        "id": "b0Sx4-xsy3Qj"
      },
      "source": [
        "# 기본 패키지 import\n",
        "import pandas as pd\n",
        "import numpy as np\n",
        "import matplotlib.pyplot as plt\n",
        "import sklearn\n",
        "import warnings\n",
        "\n",
        "import random\n",
        "\n",
        "# colab에서 나오는 warning들을 무시합니다.\n",
        "warnings.filterwarnings('ignore')\n",
        "\n",
        "# 결과 재현을 위해 해당 코드에서 사용되는 라이브러리들의 Seed를 고정합니다.\n",
        "def seed_everything(random_seed):\n",
        "    np.random.seed(random_seed)\n",
        "    random.seed(random_seed)\n",
        "\n",
        "seed = 2021\n",
        "seed_everything(seed)"
      ],
      "execution_count": null,
      "outputs": []
    },
    {
      "cell_type": "markdown",
      "metadata": {
        "id": "-WJxbE2Xm4Fq"
      },
      "source": [
        "# 콘텐츠 기반 추천 모델 실습\n",
        "- One-hot 벡터를 이용한 영화 추천"
      ]
    },
    {
      "cell_type": "markdown",
      "metadata": {
        "id": "oATJGC_Nmvue"
      },
      "source": [
        "## 네이버 영화 Dataset 다운로드"
      ]
    },
    {
      "cell_type": "code",
      "metadata": {
        "id": "OE2oncsumvue",
        "colab": {
          "base_uri": "https://localhost:8080/"
        },
        "outputId": "0564996e-4401-48a7-b2bc-baed7be06ae7"
      },
      "source": [
        "import pandas as pd\n",
        "\n",
        "from google_drive_downloader import GoogleDriveDownloader as gdd\n",
        "# https://drive.google.com/file/d/1_HFBNRk-FUOO1nquQVfWbD1IiqnWNzOW/view?usp=sharing\n",
        "gdd.download_file_from_google_drive(\n",
        "    file_id='1_HFBNRk-FUOO1nquQVfWbD1IiqnWNzOW',\n",
        "    dest_path='./naver_movie_dataset.csv',\n",
        ")\n",
        "\n",
        "print(\"데이터 다운로드 완료!\")"
      ],
      "execution_count": null,
      "outputs": [
        {
          "output_type": "stream",
          "text": [
            "데이터 다운로드 완료!\n"
          ],
          "name": "stdout"
        }
      ]
    },
    {
      "cell_type": "code",
      "metadata": {
        "id": "F6ZSGnm1mvuf",
        "colab": {
          "base_uri": "https://localhost:8080/",
          "height": 203
        },
        "outputId": "26bba56a-1ae2-4a30-8732-ac84a9de7d18"
      },
      "source": [
        "# 데이터셋 불러오기\n",
        "\"\"\"\n",
        "# of users: 2045, # of movies: 588, # of ratings: 51003\n",
        "\"\"\"\n",
        "\n",
        "column_names = ['user_id', 'item_id', 'rating', 'timestamp', 'title', 'people', 'country', 'genre']\n",
        "movie_data = pd.read_csv(\"naver_movie_dataset.csv\", names=column_names)\n",
        "movie_data.head()"
      ],
      "execution_count": null,
      "outputs": [
        {
          "output_type": "execute_result",
          "data": {
            "text/html": [
              "<div>\n",
              "<style scoped>\n",
              "    .dataframe tbody tr th:only-of-type {\n",
              "        vertical-align: middle;\n",
              "    }\n",
              "\n",
              "    .dataframe tbody tr th {\n",
              "        vertical-align: top;\n",
              "    }\n",
              "\n",
              "    .dataframe thead th {\n",
              "        text-align: right;\n",
              "    }\n",
              "</style>\n",
              "<table border=\"1\" class=\"dataframe\">\n",
              "  <thead>\n",
              "    <tr style=\"text-align: right;\">\n",
              "      <th></th>\n",
              "      <th>user_id</th>\n",
              "      <th>item_id</th>\n",
              "      <th>rating</th>\n",
              "      <th>timestamp</th>\n",
              "      <th>title</th>\n",
              "      <th>people</th>\n",
              "      <th>country</th>\n",
              "      <th>genre</th>\n",
              "    </tr>\n",
              "  </thead>\n",
              "  <tbody>\n",
              "    <tr>\n",
              "      <th>0</th>\n",
              "      <td>0</td>\n",
              "      <td>2</td>\n",
              "      <td>7</td>\n",
              "      <td>1494128040</td>\n",
              "      <td>빽 투 더 퓨쳐 2</td>\n",
              "      <td>['마이클 J. 폭스', '크리스토퍼 로이드', '리 톰슨', '토머스 F. 윌슨'...</td>\n",
              "      <td>['미국']</td>\n",
              "      <td>['SF', '코미디']</td>\n",
              "    </tr>\n",
              "    <tr>\n",
              "      <th>1</th>\n",
              "      <td>0</td>\n",
              "      <td>3</td>\n",
              "      <td>7</td>\n",
              "      <td>1467529800</td>\n",
              "      <td>빽 투 더 퓨쳐 3</td>\n",
              "      <td>['마이클 J. 폭스', '크리스토퍼 로이드', '메리 스틴버겐', '토머스 F. ...</td>\n",
              "      <td>['미국']</td>\n",
              "      <td>['서부', 'SF', '판타지', '코미디']</td>\n",
              "    </tr>\n",
              "    <tr>\n",
              "      <th>2</th>\n",
              "      <td>0</td>\n",
              "      <td>16</td>\n",
              "      <td>9</td>\n",
              "      <td>1513344120</td>\n",
              "      <td>이티</td>\n",
              "      <td>['헨리 토마스', '디 월리스', '피터 코요테', '로버트 맥노튼', '드류 베...</td>\n",
              "      <td>['미국']</td>\n",
              "      <td>['판타지', 'SF', '모험', '가족']</td>\n",
              "    </tr>\n",
              "    <tr>\n",
              "      <th>3</th>\n",
              "      <td>0</td>\n",
              "      <td>19</td>\n",
              "      <td>9</td>\n",
              "      <td>1424497980</td>\n",
              "      <td>록키</td>\n",
              "      <td>['실베스터 스탤론', '탈리아 샤이어', '버트 영', '칼 웨더스', '버제스 ...</td>\n",
              "      <td>['미국']</td>\n",
              "      <td>['드라마', '액션']</td>\n",
              "    </tr>\n",
              "    <tr>\n",
              "      <th>4</th>\n",
              "      <td>0</td>\n",
              "      <td>20</td>\n",
              "      <td>7</td>\n",
              "      <td>1427627340</td>\n",
              "      <td>록키 2</td>\n",
              "      <td>['실베스터 스탤론', '탈리아 샤이어', '버트 영', '칼 웨더스', '버제스 ...</td>\n",
              "      <td>['미국']</td>\n",
              "      <td>['드라마', '액션']</td>\n",
              "    </tr>\n",
              "  </tbody>\n",
              "</table>\n",
              "</div>"
            ],
            "text/plain": [
              "   user_id  item_id  ...  country                       genre\n",
              "0        0        2  ...   ['미국']               ['SF', '코미디']\n",
              "1        0        3  ...   ['미국']  ['서부', 'SF', '판타지', '코미디']\n",
              "2        0       16  ...   ['미국']   ['판타지', 'SF', '모험', '가족']\n",
              "3        0       19  ...   ['미국']               ['드라마', '액션']\n",
              "4        0       20  ...   ['미국']               ['드라마', '액션']\n",
              "\n",
              "[5 rows x 8 columns]"
            ]
          },
          "metadata": {
            "tags": []
          },
          "execution_count": 3
        }
      ]
    },
    {
      "cell_type": "code",
      "metadata": {
        "id": "SVVFm0yXmvuf",
        "colab": {
          "base_uri": "https://localhost:8080/",
          "height": 203
        },
        "outputId": "b129f6bd-501b-4a9b-e6ac-06d62d5500b8"
      },
      "source": [
        "# 좀 더 보기 편하게 column 재구성\n",
        "movie_data = movie_data[['user_id', 'item_id', 'title', 'genre', 'country', 'people']]\n",
        "movie_data.head()"
      ],
      "execution_count": null,
      "outputs": [
        {
          "output_type": "execute_result",
          "data": {
            "text/html": [
              "<div>\n",
              "<style scoped>\n",
              "    .dataframe tbody tr th:only-of-type {\n",
              "        vertical-align: middle;\n",
              "    }\n",
              "\n",
              "    .dataframe tbody tr th {\n",
              "        vertical-align: top;\n",
              "    }\n",
              "\n",
              "    .dataframe thead th {\n",
              "        text-align: right;\n",
              "    }\n",
              "</style>\n",
              "<table border=\"1\" class=\"dataframe\">\n",
              "  <thead>\n",
              "    <tr style=\"text-align: right;\">\n",
              "      <th></th>\n",
              "      <th>user_id</th>\n",
              "      <th>item_id</th>\n",
              "      <th>title</th>\n",
              "      <th>genre</th>\n",
              "      <th>country</th>\n",
              "      <th>people</th>\n",
              "    </tr>\n",
              "  </thead>\n",
              "  <tbody>\n",
              "    <tr>\n",
              "      <th>0</th>\n",
              "      <td>0</td>\n",
              "      <td>2</td>\n",
              "      <td>빽 투 더 퓨쳐 2</td>\n",
              "      <td>['SF', '코미디']</td>\n",
              "      <td>['미국']</td>\n",
              "      <td>['마이클 J. 폭스', '크리스토퍼 로이드', '리 톰슨', '토머스 F. 윌슨'...</td>\n",
              "    </tr>\n",
              "    <tr>\n",
              "      <th>1</th>\n",
              "      <td>0</td>\n",
              "      <td>3</td>\n",
              "      <td>빽 투 더 퓨쳐 3</td>\n",
              "      <td>['서부', 'SF', '판타지', '코미디']</td>\n",
              "      <td>['미국']</td>\n",
              "      <td>['마이클 J. 폭스', '크리스토퍼 로이드', '메리 스틴버겐', '토머스 F. ...</td>\n",
              "    </tr>\n",
              "    <tr>\n",
              "      <th>2</th>\n",
              "      <td>0</td>\n",
              "      <td>16</td>\n",
              "      <td>이티</td>\n",
              "      <td>['판타지', 'SF', '모험', '가족']</td>\n",
              "      <td>['미국']</td>\n",
              "      <td>['헨리 토마스', '디 월리스', '피터 코요테', '로버트 맥노튼', '드류 베...</td>\n",
              "    </tr>\n",
              "    <tr>\n",
              "      <th>3</th>\n",
              "      <td>0</td>\n",
              "      <td>19</td>\n",
              "      <td>록키</td>\n",
              "      <td>['드라마', '액션']</td>\n",
              "      <td>['미국']</td>\n",
              "      <td>['실베스터 스탤론', '탈리아 샤이어', '버트 영', '칼 웨더스', '버제스 ...</td>\n",
              "    </tr>\n",
              "    <tr>\n",
              "      <th>4</th>\n",
              "      <td>0</td>\n",
              "      <td>20</td>\n",
              "      <td>록키 2</td>\n",
              "      <td>['드라마', '액션']</td>\n",
              "      <td>['미국']</td>\n",
              "      <td>['실베스터 스탤론', '탈리아 샤이어', '버트 영', '칼 웨더스', '버제스 ...</td>\n",
              "    </tr>\n",
              "  </tbody>\n",
              "</table>\n",
              "</div>"
            ],
            "text/plain": [
              "   user_id  item_id  ... country                                             people\n",
              "0        0        2  ...  ['미국']  ['마이클 J. 폭스', '크리스토퍼 로이드', '리 톰슨', '토머스 F. 윌슨'...\n",
              "1        0        3  ...  ['미국']  ['마이클 J. 폭스', '크리스토퍼 로이드', '메리 스틴버겐', '토머스 F. ...\n",
              "2        0       16  ...  ['미국']  ['헨리 토마스', '디 월리스', '피터 코요테', '로버트 맥노튼', '드류 베...\n",
              "3        0       19  ...  ['미국']  ['실베스터 스탤론', '탈리아 샤이어', '버트 영', '칼 웨더스', '버제스 ...\n",
              "4        0       20  ...  ['미국']  ['실베스터 스탤론', '탈리아 샤이어', '버트 영', '칼 웨더스', '버제스 ...\n",
              "\n",
              "[5 rows x 6 columns]"
            ]
          },
          "metadata": {
            "tags": []
          },
          "execution_count": 4
        }
      ]
    },
    {
      "cell_type": "code",
      "metadata": {
        "id": "JMfOICdXmvug",
        "colab": {
          "base_uri": "https://localhost:8080/"
        },
        "outputId": "28b308ce-cb7a-4126-e862-bde03f4a273c"
      },
      "source": [
        "# 전체 데이터셋의 user, item 수 확인\n",
        "user_list = list(movie_data['user_id'].unique())\n",
        "item_list = list(movie_data['item_id'].unique())\n",
        "num_users = len(user_list)\n",
        "num_items = len(item_list)\n",
        "print(f\"# of users: {num_users}, # of items: {num_items}\")"
      ],
      "execution_count": null,
      "outputs": [
        {
          "output_type": "stream",
          "text": [
            "# of users: 2045, # of items: 588\n"
          ],
          "name": "stdout"
        }
      ]
    },
    {
      "cell_type": "markdown",
      "metadata": {
        "id": "ptiXNQAzmvuf"
      },
      "source": [
        "## Train, test set 나누기"
      ]
    },
    {
      "cell_type": "code",
      "metadata": {
        "id": "t9wdb_SLmvuf"
      },
      "source": [
        "# train, test set 나누기\n",
        "from sklearn.model_selection import train_test_split\n",
        "\n",
        "train, test = train_test_split(movie_data, test_size=0.2, stratify = movie_data['user_id'], random_state = 1234)"
      ],
      "execution_count": null,
      "outputs": []
    },
    {
      "cell_type": "markdown",
      "metadata": {
        "id": "rYlWVFddC9aI"
      },
      "source": [
        "## 데이터에 있는 장르, 국가, 배우 종류 수집하기\n",
        "- One-hot vector를 구성해주기 위함."
      ]
    },
    {
      "cell_type": "code",
      "metadata": {
        "id": "ygO77AssGewh",
        "colab": {
          "base_uri": "https://localhost:8080/"
        },
        "outputId": "00b86694-9495-4c16-c1cb-d3fab0a72b82"
      },
      "source": [
        "# 전체 데이터셋을 돌면서 모든 종류의 영화 장르, 국가, 배우 확인\n",
        "import ast\n",
        "\n",
        "# genre, country, people\n",
        "selected_features = [\"genre\", \"country\", \"people\"]\n",
        "all_genre_list = []\n",
        "all_country_list = []\n",
        "all_people_list = []\n",
        "\n",
        "for index, row in train.iterrows():\n",
        "    genres = row[\"genre\"]\n",
        "    coutries = row[\"country\"]\n",
        "    people = row[\"people\"]\n",
        "    genres = ast.literal_eval(genres)\n",
        "    coutries = ast.literal_eval(coutries)\n",
        "    people = ast.literal_eval(people)\n",
        "    for genre in genres:\n",
        "        if genre not in all_genre_list:\n",
        "            all_genre_list.append(genre)\n",
        "    for country in coutries:\n",
        "        if country not in all_country_list:\n",
        "            all_country_list.append(country)\n",
        "    for person in people:\n",
        "        if person not in all_people_list:\n",
        "            all_people_list.append(person)\n",
        "\n",
        "num_genres = len(all_genre_list)\n",
        "num_countries = len(all_country_list)\n",
        "num_people = len(all_people_list)\n",
        "print(all_genre_list)\n",
        "print(\"# of genres: \", num_genres)\n",
        "print(\"# of countries: \", num_countries)\n",
        "print(\"# of people: \", num_people)"
      ],
      "execution_count": null,
      "outputs": [
        {
          "output_type": "stream",
          "text": [
            "['드라마', '판타지', '멜로/로맨스', '액션', '공포', '가족', '모험', '코미디', '미스터리', 'SF', '스릴러', '범죄', '서부', '전쟁', '느와르', '뮤지컬', '애니메이션', '서사', '에로']\n",
            "# of genres:  19\n",
            "# of countries:  27\n",
            "# of people:  3948\n"
          ],
          "name": "stdout"
        }
      ]
    },
    {
      "cell_type": "markdown",
      "metadata": {
        "id": "4wYMqg5UC_Ee"
      },
      "source": [
        "## One-hot encoding (one-hot vector 생성)"
      ]
    },
    {
      "cell_type": "code",
      "metadata": {
        "id": "wv1YviKzGbF0",
        "colab": {
          "base_uri": "https://localhost:8080/",
          "height": 203
        },
        "outputId": "696d19b3-ef24-4208-e81b-86a0cb8e84ea"
      },
      "source": [
        "# one-hot encoding\n",
        "def binary(feature_list, all_feature_list):\n",
        "    binary_list = []\n",
        "    for feature in all_feature_list:\n",
        "        if feature in feature_list:\n",
        "            binary_list.append(1)\n",
        "        else:\n",
        "            binary_list.append(0)\n",
        "    \n",
        "    return binary_list\n",
        "\n",
        "# genre, country, people feature\n",
        "train['genre_bin'] = train['genre'].apply(lambda x: binary(x, all_genre_list))\n",
        "train['country_bin'] = train['country'].apply(lambda x: binary(x, all_country_list))\n",
        "train['people_bin'] = train['people'].apply(lambda x: binary(x, all_people_list))\n",
        "\n",
        "# train[['user_id', 'item_id', 'title', 'genre_bin']].head()\n",
        "train[['user_id', 'item_id', 'title', 'genre_bin', 'country_bin', 'people_bin']].head()"
      ],
      "execution_count": null,
      "outputs": [
        {
          "output_type": "execute_result",
          "data": {
            "text/html": [
              "<div>\n",
              "<style scoped>\n",
              "    .dataframe tbody tr th:only-of-type {\n",
              "        vertical-align: middle;\n",
              "    }\n",
              "\n",
              "    .dataframe tbody tr th {\n",
              "        vertical-align: top;\n",
              "    }\n",
              "\n",
              "    .dataframe thead th {\n",
              "        text-align: right;\n",
              "    }\n",
              "</style>\n",
              "<table border=\"1\" class=\"dataframe\">\n",
              "  <thead>\n",
              "    <tr style=\"text-align: right;\">\n",
              "      <th></th>\n",
              "      <th>user_id</th>\n",
              "      <th>item_id</th>\n",
              "      <th>title</th>\n",
              "      <th>genre_bin</th>\n",
              "      <th>country_bin</th>\n",
              "      <th>people_bin</th>\n",
              "    </tr>\n",
              "  </thead>\n",
              "  <tbody>\n",
              "    <tr>\n",
              "      <th>13978</th>\n",
              "      <td>290</td>\n",
              "      <td>564</td>\n",
              "      <td>베어</td>\n",
              "      <td>[1, 0, 0, 0, 0, 0, 0, 0, 0, 0, 0, 0, 0, 0, 0, ...</td>\n",
              "      <td>[1, 0, 0, 0, 0, 0, 0, 0, 0, 0, 0, 0, 0, 0, 0, ...</td>\n",
              "      <td>[1, 1, 1, 1, 1, 0, 0, 0, 0, 0, 0, 0, 0, 0, 0, ...</td>\n",
              "    </tr>\n",
              "    <tr>\n",
              "      <th>35370</th>\n",
              "      <td>1008</td>\n",
              "      <td>435</td>\n",
              "      <td>천녀유혼</td>\n",
              "      <td>[0, 1, 1, 1, 1, 0, 0, 0, 0, 0, 0, 0, 0, 0, 0, ...</td>\n",
              "      <td>[0, 1, 0, 0, 0, 0, 0, 0, 0, 0, 0, 0, 0, 0, 0, ...</td>\n",
              "      <td>[0, 0, 0, 0, 0, 1, 1, 1, 0, 0, 0, 0, 0, 0, 0, ...</td>\n",
              "    </tr>\n",
              "    <tr>\n",
              "      <th>34053</th>\n",
              "      <td>952</td>\n",
              "      <td>513</td>\n",
              "      <td>영구와 땡칠이</td>\n",
              "      <td>[0, 0, 0, 0, 0, 1, 1, 1, 0, 0, 0, 0, 0, 0, 0, ...</td>\n",
              "      <td>[0, 0, 1, 0, 0, 0, 0, 0, 0, 0, 0, 0, 0, 0, 0, ...</td>\n",
              "      <td>[0, 0, 0, 0, 0, 0, 0, 0, 1, 1, 1, 1, 1, 1, 1, ...</td>\n",
              "    </tr>\n",
              "    <tr>\n",
              "      <th>5994</th>\n",
              "      <td>79</td>\n",
              "      <td>144</td>\n",
              "      <td>사랑과 영혼</td>\n",
              "      <td>[1, 0, 1, 0, 0, 0, 0, 0, 0, 0, 0, 0, 0, 0, 0, ...</td>\n",
              "      <td>[0, 0, 0, 1, 0, 0, 0, 0, 0, 0, 0, 0, 0, 0, 0, ...</td>\n",
              "      <td>[0, 0, 0, 0, 0, 0, 0, 0, 0, 0, 0, 0, 0, 0, 0, ...</td>\n",
              "    </tr>\n",
              "    <tr>\n",
              "      <th>35314</th>\n",
              "      <td>1005</td>\n",
              "      <td>31</td>\n",
              "      <td>인디아나 존스 - 최후의 성전</td>\n",
              "      <td>[0, 1, 0, 1, 0, 0, 1, 0, 0, 0, 0, 0, 0, 0, 0, ...</td>\n",
              "      <td>[0, 0, 0, 1, 0, 0, 0, 0, 0, 0, 0, 0, 0, 0, 0, ...</td>\n",
              "      <td>[0, 0, 0, 0, 0, 0, 0, 0, 0, 0, 0, 0, 0, 0, 0, ...</td>\n",
              "    </tr>\n",
              "  </tbody>\n",
              "</table>\n",
              "</div>"
            ],
            "text/plain": [
              "       user_id  ...                                         people_bin\n",
              "13978      290  ...  [1, 1, 1, 1, 1, 0, 0, 0, 0, 0, 0, 0, 0, 0, 0, ...\n",
              "35370     1008  ...  [0, 0, 0, 0, 0, 1, 1, 1, 0, 0, 0, 0, 0, 0, 0, ...\n",
              "34053      952  ...  [0, 0, 0, 0, 0, 0, 0, 0, 1, 1, 1, 1, 1, 1, 1, ...\n",
              "5994        79  ...  [0, 0, 0, 0, 0, 0, 0, 0, 0, 0, 0, 0, 0, 0, 0, ...\n",
              "35314     1005  ...  [0, 0, 0, 0, 0, 0, 0, 0, 0, 0, 0, 0, 0, 0, 0, ...\n",
              "\n",
              "[5 rows x 6 columns]"
            ]
          },
          "metadata": {
            "tags": []
          },
          "execution_count": 8
        }
      ]
    },
    {
      "cell_type": "code",
      "metadata": {
        "id": "CiY7pEaDGneb"
      },
      "source": [
        "# 모든 user에 대해 combined one-hot vector 구하기\n",
        "# 영화 장르 (genre)에 대해서만 확인해보기\n",
        "grouped_sum = train['genre_bin'].groupby(by=train['user_id']).sum()\n",
        "\n",
        "user_bin = {}\n",
        "for user_idx in user_list:\n",
        "    total_bin = np.zeros(num_genres)\n",
        "    num_movies = int(len(grouped_sum[user_idx])/num_genres)\n",
        "\n",
        "    for i in range(num_movies):\n",
        "        one_movie = np.array(grouped_sum[user_idx][i*num_genres:(i+1)*num_genres])\n",
        "        zipped_lists = zip(total_bin, one_movie)\n",
        "        total_bin = [x + y for (x, y) in zipped_lists]\n",
        "\n",
        "    total_bin = np.array(total_bin)\n",
        "    user_bin[user_idx] = (total_bin, num_movies)"
      ],
      "execution_count": null,
      "outputs": []
    },
    {
      "cell_type": "code",
      "metadata": {
        "id": "zmHxg_esDAfb"
      },
      "source": [
        "# 특정 user의 one-hot vector 확인해보기\n",
        "user_id = 10\n",
        "total_bin = user_bin[user_id][0]\n",
        "num_movies = user_bin[user_id][1]\n",
        "print(f\"# of movies watched by user {user_id}: {num_movies}\")\n",
        "print(\"one-hot vector:\", total_bin)\n",
        "print(\"normalized one-hot vector:\", total_bin / num_movies)"
      ],
      "execution_count": null,
      "outputs": []
    },
    {
      "cell_type": "markdown",
      "metadata": {
        "id": "VhcmtdZsDISc"
      },
      "source": [
        "## Cosine similarity 계산"
      ]
    },
    {
      "cell_type": "code",
      "metadata": {
        "colab": {
          "base_uri": "https://localhost:8080/",
          "height": 203
        },
        "id": "s3-vD28fGqKN",
        "outputId": "29a46f0e-9b60-4686-b27f-7268fa23134e"
      },
      "source": [
        "# combined one-hot vector를 가지고 다른 item들과의 cosine similarity 계산\n",
        "norm_bin = total_bin / num_movies\n",
        "\n",
        "# unique item 추리기\n",
        "unique_items = train[['item_id', 'title', 'genre', 'genre_bin', 'country', ]].drop_duplicates(['item_id'])\n",
        "\n",
        "# 특정 user가 본 영화들 제외\n",
        "train_items_by_user = train.loc[train.user_id==user_id]\n",
        "unique_items = unique_items[~unique_items['item_id'].isin(train_items_by_user['item_id'])]\n",
        "\n",
        "unique_items['similarity'] = unique_items['genre_bin'].apply(lambda x: np.array(x).dot(norm_bin) / (np.array(x).sum() + 1e-10))\n",
        "unique_items.head()\n",
        "\n",
        "# cosine similarity를 토대로 top-k item 구하기\n",
        "sorted_items = unique_items.sort_values(by=['similarity'], axis=0, ascending=False)\n",
        "sorted_items.head()"
      ],
      "execution_count": null,
      "outputs": [
        {
          "output_type": "execute_result",
          "data": {
            "text/html": [
              "<div>\n",
              "<style scoped>\n",
              "    .dataframe tbody tr th:only-of-type {\n",
              "        vertical-align: middle;\n",
              "    }\n",
              "\n",
              "    .dataframe tbody tr th {\n",
              "        vertical-align: top;\n",
              "    }\n",
              "\n",
              "    .dataframe thead th {\n",
              "        text-align: right;\n",
              "    }\n",
              "</style>\n",
              "<table border=\"1\" class=\"dataframe\">\n",
              "  <thead>\n",
              "    <tr style=\"text-align: right;\">\n",
              "      <th></th>\n",
              "      <th>item_id</th>\n",
              "      <th>title</th>\n",
              "      <th>genre</th>\n",
              "      <th>genre_bin</th>\n",
              "      <th>country</th>\n",
              "      <th>similarity</th>\n",
              "    </tr>\n",
              "  </thead>\n",
              "  <tbody>\n",
              "    <tr>\n",
              "      <th>13978</th>\n",
              "      <td>564</td>\n",
              "      <td>베어</td>\n",
              "      <td>['드라마']</td>\n",
              "      <td>[1, 0, 0, 0, 0, 0, 0, 0, 0, 0, 0, 0, 0, 0, 0, ...</td>\n",
              "      <td>['프랑스']</td>\n",
              "      <td>0.622222</td>\n",
              "    </tr>\n",
              "    <tr>\n",
              "      <th>9990</th>\n",
              "      <td>74</td>\n",
              "      <td>챔프</td>\n",
              "      <td>['드라마']</td>\n",
              "      <td>[1, 0, 0, 0, 0, 0, 0, 0, 0, 0, 0, 0, 0, 0, 0, ...</td>\n",
              "      <td>['미국']</td>\n",
              "      <td>0.622222</td>\n",
              "    </tr>\n",
              "    <tr>\n",
              "      <th>22262</th>\n",
              "      <td>522</td>\n",
              "      <td>칠수와 만수</td>\n",
              "      <td>['드라마']</td>\n",
              "      <td>[1, 0, 0, 0, 0, 0, 0, 0, 0, 0, 0, 0, 0, 0, 0, ...</td>\n",
              "      <td>['한국']</td>\n",
              "      <td>0.622222</td>\n",
              "    </tr>\n",
              "    <tr>\n",
              "      <th>20830</th>\n",
              "      <td>515</td>\n",
              "      <td>밤 그리고 도시</td>\n",
              "      <td>['드라마']</td>\n",
              "      <td>[1, 0, 0, 0, 0, 0, 0, 0, 0, 0, 0, 0, 0, 0, 0, ...</td>\n",
              "      <td>['미국']</td>\n",
              "      <td>0.622222</td>\n",
              "    </tr>\n",
              "    <tr>\n",
              "      <th>1532</th>\n",
              "      <td>530</td>\n",
              "      <td>칼리굴라</td>\n",
              "      <td>['드라마']</td>\n",
              "      <td>[1, 0, 0, 0, 0, 0, 0, 0, 0, 0, 0, 0, 0, 0, 0, ...</td>\n",
              "      <td>['미국', '이탈리아']</td>\n",
              "      <td>0.622222</td>\n",
              "    </tr>\n",
              "  </tbody>\n",
              "</table>\n",
              "</div>"
            ],
            "text/plain": [
              "       item_id     title  ...         country similarity\n",
              "13978      564        베어  ...         ['프랑스']   0.622222\n",
              "9990        74        챔프  ...          ['미국']   0.622222\n",
              "22262      522    칠수와 만수  ...          ['한국']   0.622222\n",
              "20830      515  밤 그리고 도시  ...          ['미국']   0.622222\n",
              "1532       530      칼리굴라  ...  ['미국', '이탈리아']   0.622222\n",
              "\n",
              "[5 rows x 6 columns]"
            ]
          },
          "metadata": {
            "tags": []
          },
          "execution_count": 211
        }
      ]
    },
    {
      "cell_type": "code",
      "metadata": {
        "colab": {
          "base_uri": "https://localhost:8080/",
          "height": 357
        },
        "id": "WUQSM9dBGrBb",
        "outputId": "0955253c-a069-4f37-c566-41bc9ef84b2a"
      },
      "source": [
        "top_k = 10\n",
        "top_k_items = list(sorted_items['item_id'][:top_k])\n",
        "top_item_df = sorted_items[['item_id', 'title', 'genre']].drop_duplicates(['item_id'])\n",
        "# 예측한 top-k items\n",
        "top_item_df[top_item_df['item_id'].isin(top_k_items[:top_k])]"
      ],
      "execution_count": null,
      "outputs": [
        {
          "output_type": "execute_result",
          "data": {
            "text/html": [
              "<div>\n",
              "<style scoped>\n",
              "    .dataframe tbody tr th:only-of-type {\n",
              "        vertical-align: middle;\n",
              "    }\n",
              "\n",
              "    .dataframe tbody tr th {\n",
              "        vertical-align: top;\n",
              "    }\n",
              "\n",
              "    .dataframe thead th {\n",
              "        text-align: right;\n",
              "    }\n",
              "</style>\n",
              "<table border=\"1\" class=\"dataframe\">\n",
              "  <thead>\n",
              "    <tr style=\"text-align: right;\">\n",
              "      <th></th>\n",
              "      <th>item_id</th>\n",
              "      <th>title</th>\n",
              "      <th>genre</th>\n",
              "    </tr>\n",
              "  </thead>\n",
              "  <tbody>\n",
              "    <tr>\n",
              "      <th>13978</th>\n",
              "      <td>564</td>\n",
              "      <td>베어</td>\n",
              "      <td>['드라마']</td>\n",
              "    </tr>\n",
              "    <tr>\n",
              "      <th>9990</th>\n",
              "      <td>74</td>\n",
              "      <td>챔프</td>\n",
              "      <td>['드라마']</td>\n",
              "    </tr>\n",
              "    <tr>\n",
              "      <th>22262</th>\n",
              "      <td>522</td>\n",
              "      <td>칠수와 만수</td>\n",
              "      <td>['드라마']</td>\n",
              "    </tr>\n",
              "    <tr>\n",
              "      <th>20830</th>\n",
              "      <td>515</td>\n",
              "      <td>밤 그리고 도시</td>\n",
              "      <td>['드라마']</td>\n",
              "    </tr>\n",
              "    <tr>\n",
              "      <th>1532</th>\n",
              "      <td>530</td>\n",
              "      <td>칼리굴라</td>\n",
              "      <td>['드라마']</td>\n",
              "    </tr>\n",
              "    <tr>\n",
              "      <th>55874</th>\n",
              "      <td>465</td>\n",
              "      <td>집시의 시간</td>\n",
              "      <td>['드라마']</td>\n",
              "    </tr>\n",
              "    <tr>\n",
              "      <th>36287</th>\n",
              "      <td>439</td>\n",
              "      <td>제7의 봉인</td>\n",
              "      <td>['드라마']</td>\n",
              "    </tr>\n",
              "    <tr>\n",
              "      <th>25068</th>\n",
              "      <td>545</td>\n",
              "      <td>깊은 밤 깊은 곳에</td>\n",
              "      <td>['드라마']</td>\n",
              "    </tr>\n",
              "    <tr>\n",
              "      <th>27404</th>\n",
              "      <td>48</td>\n",
              "      <td>라 밤바</td>\n",
              "      <td>['드라마']</td>\n",
              "    </tr>\n",
              "    <tr>\n",
              "      <th>24369</th>\n",
              "      <td>500</td>\n",
              "      <td>김의 전쟁</td>\n",
              "      <td>['드라마']</td>\n",
              "    </tr>\n",
              "  </tbody>\n",
              "</table>\n",
              "</div>"
            ],
            "text/plain": [
              "       item_id       title    genre\n",
              "13978      564          베어  ['드라마']\n",
              "9990        74          챔프  ['드라마']\n",
              "22262      522      칠수와 만수  ['드라마']\n",
              "20830      515    밤 그리고 도시  ['드라마']\n",
              "1532       530        칼리굴라  ['드라마']\n",
              "55874      465      집시의 시간  ['드라마']\n",
              "36287      439      제7의 봉인  ['드라마']\n",
              "25068      545  깊은 밤 깊은 곳에  ['드라마']\n",
              "27404       48        라 밤바  ['드라마']\n",
              "24369      500       김의 전쟁  ['드라마']"
            ]
          },
          "metadata": {
            "tags": []
          },
          "execution_count": 212
        }
      ]
    },
    {
      "cell_type": "code",
      "metadata": {
        "colab": {
          "base_uri": "https://localhost:8080/",
          "height": 418
        },
        "id": "i2jV0R8EGsBL",
        "outputId": "8d7adf4d-d084-4f3e-bb3c-e849d70b0518"
      },
      "source": [
        "# user가 실제로 본 영화들\n",
        "user_id = 10\n",
        "test_items_by_user = test.loc[test.user_id==user_id]\n",
        "test_items_by_user[['user_id', 'item_id', 'title', 'genre']]"
      ],
      "execution_count": null,
      "outputs": [
        {
          "output_type": "execute_result",
          "data": {
            "text/html": [
              "<div>\n",
              "<style scoped>\n",
              "    .dataframe tbody tr th:only-of-type {\n",
              "        vertical-align: middle;\n",
              "    }\n",
              "\n",
              "    .dataframe tbody tr th {\n",
              "        vertical-align: top;\n",
              "    }\n",
              "\n",
              "    .dataframe thead th {\n",
              "        text-align: right;\n",
              "    }\n",
              "</style>\n",
              "<table border=\"1\" class=\"dataframe\">\n",
              "  <thead>\n",
              "    <tr style=\"text-align: right;\">\n",
              "      <th></th>\n",
              "      <th>user_id</th>\n",
              "      <th>item_id</th>\n",
              "      <th>title</th>\n",
              "      <th>genre</th>\n",
              "    </tr>\n",
              "  </thead>\n",
              "  <tbody>\n",
              "    <tr>\n",
              "      <th>486</th>\n",
              "      <td>10</td>\n",
              "      <td>513</td>\n",
              "      <td>영구와 땡칠이</td>\n",
              "      <td>['가족', '모험', '코미디']</td>\n",
              "    </tr>\n",
              "    <tr>\n",
              "      <th>464</th>\n",
              "      <td>10</td>\n",
              "      <td>192</td>\n",
              "      <td>늑대와 춤을</td>\n",
              "      <td>['드라마', '서부', '모험']</td>\n",
              "    </tr>\n",
              "    <tr>\n",
              "      <th>419</th>\n",
              "      <td>10</td>\n",
              "      <td>66</td>\n",
              "      <td>티파니에서 아침을</td>\n",
              "      <td>['멜로/로맨스', '드라마']</td>\n",
              "    </tr>\n",
              "    <tr>\n",
              "      <th>390</th>\n",
              "      <td>10</td>\n",
              "      <td>10</td>\n",
              "      <td>다이 하드</td>\n",
              "      <td>['액션', '스릴러', '범죄']</td>\n",
              "    </tr>\n",
              "    <tr>\n",
              "      <th>392</th>\n",
              "      <td>10</td>\n",
              "      <td>14</td>\n",
              "      <td>나 홀로 집에</td>\n",
              "      <td>['코미디', '가족', '모험', '범죄']</td>\n",
              "    </tr>\n",
              "    <tr>\n",
              "      <th>477</th>\n",
              "      <td>10</td>\n",
              "      <td>373</td>\n",
              "      <td>아비정전</td>\n",
              "      <td>['멜로/로맨스', '드라마', '범죄']</td>\n",
              "    </tr>\n",
              "    <tr>\n",
              "      <th>385</th>\n",
              "      <td>10</td>\n",
              "      <td>1</td>\n",
              "      <td>빽 투 더 퓨쳐</td>\n",
              "      <td>['SF', '코미디']</td>\n",
              "    </tr>\n",
              "    <tr>\n",
              "      <th>431</th>\n",
              "      <td>10</td>\n",
              "      <td>87</td>\n",
              "      <td>카사블랑카</td>\n",
              "      <td>['멜로/로맨스', '드라마']</td>\n",
              "    </tr>\n",
              "    <tr>\n",
              "      <th>470</th>\n",
              "      <td>10</td>\n",
              "      <td>245</td>\n",
              "      <td>스카페이스</td>\n",
              "      <td>['드라마', '액션', '범죄']</td>\n",
              "    </tr>\n",
              "    <tr>\n",
              "      <th>402</th>\n",
              "      <td>10</td>\n",
              "      <td>35</td>\n",
              "      <td>플래툰</td>\n",
              "      <td>['드라마', '전쟁']</td>\n",
              "    </tr>\n",
              "    <tr>\n",
              "      <th>399</th>\n",
              "      <td>10</td>\n",
              "      <td>20</td>\n",
              "      <td>록키 2</td>\n",
              "      <td>['드라마', '액션']</td>\n",
              "    </tr>\n",
              "    <tr>\n",
              "      <th>403</th>\n",
              "      <td>10</td>\n",
              "      <td>36</td>\n",
              "      <td>구니스</td>\n",
              "      <td>['코미디', '스릴러', '모험', '가족']</td>\n",
              "    </tr>\n",
              "  </tbody>\n",
              "</table>\n",
              "</div>"
            ],
            "text/plain": [
              "     user_id  item_id      title                       genre\n",
              "486       10      513    영구와 땡칠이         ['가족', '모험', '코미디']\n",
              "464       10      192     늑대와 춤을         ['드라마', '서부', '모험']\n",
              "419       10       66  티파니에서 아침을           ['멜로/로맨스', '드라마']\n",
              "390       10       10      다이 하드         ['액션', '스릴러', '범죄']\n",
              "392       10       14    나 홀로 집에   ['코미디', '가족', '모험', '범죄']\n",
              "477       10      373       아비정전     ['멜로/로맨스', '드라마', '범죄']\n",
              "385       10        1   빽 투 더 퓨쳐               ['SF', '코미디']\n",
              "431       10       87      카사블랑카           ['멜로/로맨스', '드라마']\n",
              "470       10      245      스카페이스         ['드라마', '액션', '범죄']\n",
              "402       10       35        플래툰               ['드라마', '전쟁']\n",
              "399       10       20       록키 2               ['드라마', '액션']\n",
              "403       10       36        구니스  ['코미디', '스릴러', '모험', '가족']"
            ]
          },
          "metadata": {
            "tags": []
          },
          "execution_count": 213
        }
      ]
    },
    {
      "cell_type": "markdown",
      "metadata": {
        "id": "3Vs08ELcDOzA"
      },
      "source": [
        "## Precision, Recall, NDCG@K를 통한 평가"
      ]
    },
    {
      "cell_type": "code",
      "metadata": {
        "id": "aLI-xFKw5YnX"
      },
      "source": [
        "import math\n",
        "\n",
        "# evaluation metrices: Precision, Recall, NDCG@K\n",
        "def compute_metrics(pred_u, target_u, top_k):\n",
        "    pred_k = pred_u[:top_k]\n",
        "    num_target_items = len(target_u)\n",
        "\n",
        "    hits_k = [(i + 1, item) for i, item in enumerate(pred_k) if item in target_u]\n",
        "    # print(\"실제로 맞춘 items (position, idx):\", hits_k)\n",
        "    num_hits = len(hits_k)\n",
        "\n",
        "    idcg_k = 0.0\n",
        "    for i in range(1, min(num_target_items, top_k) + 1):\n",
        "        idcg_k += 1 / math.log(i + 1, 2)\n",
        "\n",
        "    dcg_k = 0.0\n",
        "    for idx, item in hits_k:\n",
        "        dcg_k += 1 / math.log(idx + 1, 2)\n",
        "    \n",
        "    prec_k = num_hits / top_k\n",
        "    recall_k = num_hits / min(num_target_items, top_k)\n",
        "    ndcg_k = dcg_k / idcg_k\n",
        "\n",
        "    return prec_k, recall_k, ndcg_k"
      ],
      "execution_count": null,
      "outputs": []
    },
    {
      "cell_type": "code",
      "metadata": {
        "colab": {
          "base_uri": "https://localhost:8080/"
        },
        "id": "8cpF4fTWMO7X",
        "outputId": "ef17f0aa-6403-468e-bbcd-d00feab4a0ff"
      },
      "source": [
        "# user 한 명에 대한 평가\n",
        "top_k = 200\n",
        "pred_u = list(sorted_items['item_id'])\n",
        "target_u = list(test_items_by_user['item_id'])\n",
        "\n",
        "prec, recall, ndcg = compute_metrics(pred_u, target_u, top_k)\n",
        "print(f\"Precison@{top_k}: {prec:.4f}\")\n",
        "print(f\"Recall@{top_k}: {recall:.4f}\")\n",
        "print(f\"NDCG@{top_k}: {ndcg:.4f}\")"
      ],
      "execution_count": null,
      "outputs": [
        {
          "output_type": "stream",
          "text": [
            "Precison@200: 0.0200\n",
            "Recall@200: 0.3333\n",
            "NDCG@200: 0.1108\n"
          ],
          "name": "stdout"
        }
      ]
    },
    {
      "cell_type": "code",
      "metadata": {
        "id": "PmMlZt8lDa2B"
      },
      "source": [
        "# 전체 user에 대한 평가\n",
        "top_k = 200\n",
        "prec_list = []\n",
        "recall_list = []\n",
        "ndcg_list = []\n",
        "\n",
        "# unique item 추리기\n",
        "ori_unique_items = train[['item_id', 'title', 'genre', 'genre_bin', 'country', ]].drop_duplicates(['item_id'])\n",
        "\n",
        "for user_id in user_list:\n",
        "    total_bin = user_bin[user_id][0]\n",
        "    num_movies = user_bin[user_id][1]\n",
        "\n",
        "    # combined one-hot vector를 가지고 다른 item들과의 cosine similarity 계산\n",
        "    norm_bin = total_bin / num_movies\n",
        "\n",
        "    # 특정 user가 본 영화들 제외\n",
        "    train_items_by_user = train.loc[train.user_id==user_id]\n",
        "    unique_items = ori_unique_items[~ori_unique_items['item_id'].isin(train_items_by_user['item_id'])]\n",
        "    unique_items['similarity'] = unique_items['genre_bin'].apply(lambda x: np.array(x).dot(norm_bin) / (np.array(x).sum() + 1e-10))\n",
        "\n",
        "    # cosine similarity를 토대로 top-k item 구하기\n",
        "    sorted_items = unique_items.sort_values(by=['similarity'], axis=0, ascending=False)\n",
        "\n",
        "    test_items_by_user = test.loc[test.user_id==user_id]\n",
        "    pred_u = list(sorted_items['item_id'])\n",
        "    target_u = list(test_items_by_user['item_id'])\n",
        "\n",
        "    prec, recall, ndcg = compute_metrics(pred_u, target_u, top_k)\n",
        "    prec_list.append(prec)\n",
        "    recall_list.append(recall)\n",
        "    ndcg_list.append(ndcg)"
      ],
      "execution_count": null,
      "outputs": []
    },
    {
      "cell_type": "code",
      "metadata": {
        "colab": {
          "base_uri": "https://localhost:8080/"
        },
        "id": "_IiQk0LiJ_om",
        "outputId": "e8aa0953-613d-4b82-fb14-7aad0616a7cb"
      },
      "source": [
        "print(f\"Precision@{top_k}: {np.mean(prec_list):.4f}\")\n",
        "print(f\"Recall@{top_k}: {np.mean(recall_list):.4f}\")\n",
        "print(f\"NDCG@{top_k}: {np.mean(ndcg_list):.4f}\")"
      ],
      "execution_count": null,
      "outputs": [
        {
          "output_type": "stream",
          "text": [
            "Precision@200: 0.0098\n",
            "Recall@200: 0.3929\n",
            "NDCG@200: 0.1062\n"
          ],
          "name": "stdout"
        }
      ]
    },
    {
      "cell_type": "markdown",
      "metadata": {
        "id": "OZhA56QC6jvb"
      },
      "source": [
        "# 콘텐츠 기반 추천 - 여러 개의 feature 결합\n",
        "예시로 보여드린 장르 정보와 국가 (country) 혹은 배우 (people) 정보를 활용하여 영화 추천 <br>\n",
        "- genre + country\n",
        "- genre + people\n",
        "- genre + country + people <br>\n",
        "두 개 이상의 정보를 이용해서 하나의 one-hot vector를 만들 때, 아래처럼 + operator로 두 개의 one-hot vector를 concat해서 one-hot vector를 하나로 만들어주실 수 있습니다."
      ]
    },
    {
      "cell_type": "code",
      "metadata": {
        "colab": {
          "base_uri": "https://localhost:8080/"
        },
        "id": "8FiYg7gm6jYt",
        "outputId": "23fd6e03-df6e-45f7-d4a4-902acf4fab87"
      },
      "source": [
        "# 예시로 genre_bin와 people 두 개를 합치는 방식 사용.\n",
        "\n",
        "new_feature = 'genre_county'\n",
        "# new_feature = 'genre_people'\n",
        "# new_feature = 'genre_people_country'\n",
        "train[new_feature] = train['genre_bin'] + train['country_bin']\n",
        "# train[new_feature] = train['genre_bin'] + train['people_bin']\n",
        "# train[new_feature] = train['genre_bin'] + train['people_bin'] + train['country_bin']\n",
        "\n",
        "# one-hot vector 길이 변화 확인\n",
        "print(\"length of genre:\", len(train['genre_bin'].iloc[0]))\n",
        "print(f\"length of {new_feature}:\", len(train[new_feature].iloc[0]))"
      ],
      "execution_count": null,
      "outputs": [
        {
          "output_type": "stream",
          "text": [
            "length of genre: 19\n",
            "length of genre_people_country: 3994\n"
          ],
          "name": "stdout"
        }
      ]
    },
    {
      "cell_type": "code",
      "metadata": {
        "id": "iM6m8w43ibZY"
      },
      "source": [
        "# 모든 user에 대해 combined one-hot vector 구하기\n",
        "import numpy as np\n",
        "\n",
        "grouped_sum = train[new_feature].groupby(by=train['user_id']).sum()\n",
        "num_features = len(train[new_feature].iloc[0])\n",
        "\n",
        "user_bin = {}\n",
        "for user_idx in user_list:\n",
        "    total_bin = np.zeros(num_features)\n",
        "    num_dim = int(len(grouped_sum[user_idx])/num_features)\n",
        "\n",
        "    for i in range(num_dim):\n",
        "        one_movie = np.array(grouped_sum[user_idx][i*num_features:(i+1)*num_features])\n",
        "        zipped_lists = zip(total_bin, one_movie)\n",
        "        total_bin = [x + y for (x, y) in zipped_lists]\n",
        "\n",
        "    total_bin = np.array(total_bin)\n",
        "    user_bin[user_idx] = (total_bin, num_dim)"
      ],
      "execution_count": null,
      "outputs": []
    },
    {
      "cell_type": "code",
      "metadata": {
        "colab": {
          "base_uri": "https://localhost:8080/"
        },
        "id": "detRl9DWC8DS",
        "outputId": "a2596e1f-4bc0-4a3b-c334-29293de2dbc4"
      },
      "source": [
        "# 특정 user의 one-hot vector 확인해보기\n",
        "user_id = 10\n",
        "total_bin = user_bin[user_id][0]\n",
        "num_dim = user_bin[user_id][1]\n",
        "print(\"one-hot vector:\", total_bin)\n",
        "print(\"normalized one-hot vector:\", total_bin / num_dim)"
      ],
      "execution_count": null,
      "outputs": [
        {
          "output_type": "stream",
          "text": [
            "one-hot vector: [28.  4. 11. ...  0.  0.  0.]\n",
            "normalized one-hot vector: [0.62222222 0.08888889 0.24444444 ... 0.         0.         0.        ]\n"
          ],
          "name": "stdout"
        }
      ]
    },
    {
      "cell_type": "markdown",
      "metadata": {
        "id": "_FRdhEF-5YnQ"
      },
      "source": [
        "## Cosine similarity 계산"
      ]
    },
    {
      "cell_type": "code",
      "metadata": {
        "colab": {
          "base_uri": "https://localhost:8080/",
          "height": 203
        },
        "id": "6jGTLJoF5YnW",
        "outputId": "d2f46b74-eab6-4ba0-a6c7-0ad0713a0608"
      },
      "source": [
        "# combined one-hot vector를 가지고 다른 item들과의 cosine similarity 계산\n",
        "norm_bin = total_bin / num_dim\n",
        "\n",
        "# unique item 추리기\n",
        "unique_items = train[['item_id', 'title', 'genre', 'people', 'country', new_feature]].drop_duplicates(['item_id'])\n",
        "\n",
        "# 특정 user가 본 영화들 제외\n",
        "train_items_by_user = train.loc[train.user_id==user_id]\n",
        "unique_items = unique_items[~unique_items['item_id'].isin(train_items_by_user['item_id'])]\n",
        "\n",
        "unique_items['similarity'] = unique_items[new_feature].apply(lambda x: np.array(x).dot(norm_bin) / (np.array(x).sum() + 1e-10))\n",
        "unique_items.head()\n",
        "\n",
        "# cosine similarity를 토대로 top-k item 구하기\n",
        "sorted_items = unique_items.sort_values(by=['similarity'], axis=0, ascending=False)\n",
        "sorted_items.head()"
      ],
      "execution_count": null,
      "outputs": [
        {
          "output_type": "execute_result",
          "data": {
            "text/html": [
              "<div>\n",
              "<style scoped>\n",
              "    .dataframe tbody tr th:only-of-type {\n",
              "        vertical-align: middle;\n",
              "    }\n",
              "\n",
              "    .dataframe tbody tr th {\n",
              "        vertical-align: top;\n",
              "    }\n",
              "\n",
              "    .dataframe thead th {\n",
              "        text-align: right;\n",
              "    }\n",
              "</style>\n",
              "<table border=\"1\" class=\"dataframe\">\n",
              "  <thead>\n",
              "    <tr style=\"text-align: right;\">\n",
              "      <th></th>\n",
              "      <th>item_id</th>\n",
              "      <th>title</th>\n",
              "      <th>genre</th>\n",
              "      <th>people</th>\n",
              "      <th>country</th>\n",
              "      <th>genre_people_country</th>\n",
              "      <th>similarity</th>\n",
              "    </tr>\n",
              "  </thead>\n",
              "  <tbody>\n",
              "    <tr>\n",
              "      <th>35540</th>\n",
              "      <td>240</td>\n",
              "      <td>살인광 시대</td>\n",
              "      <td>['드라마', '코미디']</td>\n",
              "      <td>['찰리 채플린', '마사 레이']</td>\n",
              "      <td>['미국']</td>\n",
              "      <td>[1, 0, 0, 0, 0, 0, 0, 1, 0, 0, 0, 0, 0, 0, 0, ...</td>\n",
              "      <td>0.337778</td>\n",
              "    </tr>\n",
              "    <tr>\n",
              "      <th>37617</th>\n",
              "      <td>560</td>\n",
              "      <td>로드 하우스</td>\n",
              "      <td>['드라마', '액션']</td>\n",
              "      <td>['패트릭 스웨이지', '벤 가자라', '샘 엘리어트']</td>\n",
              "      <td>['미국']</td>\n",
              "      <td>[1, 0, 0, 1, 0, 0, 0, 0, 0, 0, 0, 0, 0, 0, 0, ...</td>\n",
              "      <td>0.288889</td>\n",
              "    </tr>\n",
              "    <tr>\n",
              "      <th>48175</th>\n",
              "      <td>159</td>\n",
              "      <td>레드 소냐</td>\n",
              "      <td>[]</td>\n",
              "      <td>['아놀드 슈왈제네거', '브리짓 닐슨']</td>\n",
              "      <td>['미국']</td>\n",
              "      <td>[0, 0, 0, 0, 0, 0, 0, 0, 0, 0, 0, 0, 0, 0, 0, ...</td>\n",
              "      <td>0.281481</td>\n",
              "    </tr>\n",
              "    <tr>\n",
              "      <th>15269</th>\n",
              "      <td>511</td>\n",
              "      <td>백경</td>\n",
              "      <td>['드라마', '모험']</td>\n",
              "      <td>['그레고리 펙', '리차드 베이스하트', '리오 겐']</td>\n",
              "      <td>['미국']</td>\n",
              "      <td>[1, 0, 0, 0, 0, 0, 1, 0, 0, 0, 0, 0, 0, 0, 0, ...</td>\n",
              "      <td>0.262963</td>\n",
              "    </tr>\n",
              "    <tr>\n",
              "      <th>41617</th>\n",
              "      <td>198</td>\n",
              "      <td>미지와의 조우</td>\n",
              "      <td>['SF', '드라마', '모험']</td>\n",
              "      <td>['리차드 드레이퓨즈', '프랑수아 트뤼포']</td>\n",
              "      <td>['미국', '영국']</td>\n",
              "      <td>[1, 0, 0, 0, 0, 0, 1, 0, 0, 1, 0, 0, 0, 0, 0, ...</td>\n",
              "      <td>0.250794</td>\n",
              "    </tr>\n",
              "  </tbody>\n",
              "</table>\n",
              "</div>"
            ],
            "text/plain": [
              "       item_id  ... similarity\n",
              "35540      240  ...   0.337778\n",
              "37617      560  ...   0.288889\n",
              "48175      159  ...   0.281481\n",
              "15269      511  ...   0.262963\n",
              "41617      198  ...   0.250794\n",
              "\n",
              "[5 rows x 7 columns]"
            ]
          },
          "metadata": {
            "tags": []
          },
          "execution_count": 13
        }
      ]
    },
    {
      "cell_type": "code",
      "metadata": {
        "colab": {
          "base_uri": "https://localhost:8080/",
          "height": 418
        },
        "id": "j4al42Up5YnX",
        "outputId": "6549c975-682f-423c-88b6-dfdcf643dc28"
      },
      "source": [
        "# user가 실제로 본 영화들\n",
        "user_id = 10\n",
        "test_items_by_user = test.loc[test.user_id==user_id]\n",
        "test_items_by_user[['user_id', 'item_id', 'title', 'genre']]"
      ],
      "execution_count": null,
      "outputs": [
        {
          "output_type": "execute_result",
          "data": {
            "text/html": [
              "<div>\n",
              "<style scoped>\n",
              "    .dataframe tbody tr th:only-of-type {\n",
              "        vertical-align: middle;\n",
              "    }\n",
              "\n",
              "    .dataframe tbody tr th {\n",
              "        vertical-align: top;\n",
              "    }\n",
              "\n",
              "    .dataframe thead th {\n",
              "        text-align: right;\n",
              "    }\n",
              "</style>\n",
              "<table border=\"1\" class=\"dataframe\">\n",
              "  <thead>\n",
              "    <tr style=\"text-align: right;\">\n",
              "      <th></th>\n",
              "      <th>user_id</th>\n",
              "      <th>item_id</th>\n",
              "      <th>title</th>\n",
              "      <th>genre</th>\n",
              "    </tr>\n",
              "  </thead>\n",
              "  <tbody>\n",
              "    <tr>\n",
              "      <th>486</th>\n",
              "      <td>10</td>\n",
              "      <td>513</td>\n",
              "      <td>영구와 땡칠이</td>\n",
              "      <td>['가족', '모험', '코미디']</td>\n",
              "    </tr>\n",
              "    <tr>\n",
              "      <th>464</th>\n",
              "      <td>10</td>\n",
              "      <td>192</td>\n",
              "      <td>늑대와 춤을</td>\n",
              "      <td>['드라마', '서부', '모험']</td>\n",
              "    </tr>\n",
              "    <tr>\n",
              "      <th>419</th>\n",
              "      <td>10</td>\n",
              "      <td>66</td>\n",
              "      <td>티파니에서 아침을</td>\n",
              "      <td>['멜로/로맨스', '드라마']</td>\n",
              "    </tr>\n",
              "    <tr>\n",
              "      <th>390</th>\n",
              "      <td>10</td>\n",
              "      <td>10</td>\n",
              "      <td>다이 하드</td>\n",
              "      <td>['액션', '스릴러', '범죄']</td>\n",
              "    </tr>\n",
              "    <tr>\n",
              "      <th>392</th>\n",
              "      <td>10</td>\n",
              "      <td>14</td>\n",
              "      <td>나 홀로 집에</td>\n",
              "      <td>['코미디', '가족', '모험', '범죄']</td>\n",
              "    </tr>\n",
              "    <tr>\n",
              "      <th>477</th>\n",
              "      <td>10</td>\n",
              "      <td>373</td>\n",
              "      <td>아비정전</td>\n",
              "      <td>['멜로/로맨스', '드라마', '범죄']</td>\n",
              "    </tr>\n",
              "    <tr>\n",
              "      <th>385</th>\n",
              "      <td>10</td>\n",
              "      <td>1</td>\n",
              "      <td>빽 투 더 퓨쳐</td>\n",
              "      <td>['SF', '코미디']</td>\n",
              "    </tr>\n",
              "    <tr>\n",
              "      <th>431</th>\n",
              "      <td>10</td>\n",
              "      <td>87</td>\n",
              "      <td>카사블랑카</td>\n",
              "      <td>['멜로/로맨스', '드라마']</td>\n",
              "    </tr>\n",
              "    <tr>\n",
              "      <th>470</th>\n",
              "      <td>10</td>\n",
              "      <td>245</td>\n",
              "      <td>스카페이스</td>\n",
              "      <td>['드라마', '액션', '범죄']</td>\n",
              "    </tr>\n",
              "    <tr>\n",
              "      <th>402</th>\n",
              "      <td>10</td>\n",
              "      <td>35</td>\n",
              "      <td>플래툰</td>\n",
              "      <td>['드라마', '전쟁']</td>\n",
              "    </tr>\n",
              "    <tr>\n",
              "      <th>399</th>\n",
              "      <td>10</td>\n",
              "      <td>20</td>\n",
              "      <td>록키 2</td>\n",
              "      <td>['드라마', '액션']</td>\n",
              "    </tr>\n",
              "    <tr>\n",
              "      <th>403</th>\n",
              "      <td>10</td>\n",
              "      <td>36</td>\n",
              "      <td>구니스</td>\n",
              "      <td>['코미디', '스릴러', '모험', '가족']</td>\n",
              "    </tr>\n",
              "  </tbody>\n",
              "</table>\n",
              "</div>"
            ],
            "text/plain": [
              "     user_id  item_id      title                       genre\n",
              "486       10      513    영구와 땡칠이         ['가족', '모험', '코미디']\n",
              "464       10      192     늑대와 춤을         ['드라마', '서부', '모험']\n",
              "419       10       66  티파니에서 아침을           ['멜로/로맨스', '드라마']\n",
              "390       10       10      다이 하드         ['액션', '스릴러', '범죄']\n",
              "392       10       14    나 홀로 집에   ['코미디', '가족', '모험', '범죄']\n",
              "477       10      373       아비정전     ['멜로/로맨스', '드라마', '범죄']\n",
              "385       10        1   빽 투 더 퓨쳐               ['SF', '코미디']\n",
              "431       10       87      카사블랑카           ['멜로/로맨스', '드라마']\n",
              "470       10      245      스카페이스         ['드라마', '액션', '범죄']\n",
              "402       10       35        플래툰               ['드라마', '전쟁']\n",
              "399       10       20       록키 2               ['드라마', '액션']\n",
              "403       10       36        구니스  ['코미디', '스릴러', '모험', '가족']"
            ]
          },
          "metadata": {
            "tags": []
          },
          "execution_count": 14
        }
      ]
    },
    {
      "cell_type": "markdown",
      "metadata": {
        "id": "viNn30WR5YnX"
      },
      "source": [
        "## Precision, Recall, NDCG@K를 통한 평가"
      ]
    },
    {
      "cell_type": "code",
      "metadata": {
        "colab": {
          "base_uri": "https://localhost:8080/"
        },
        "id": "uE-4uIpt5YnY",
        "outputId": "11b76c47-b4d2-43f3-f3ff-f00844edb894"
      },
      "source": [
        "# user 한 명에 대한 평가\n",
        "top_k = 200\n",
        "pred_u = list(sorted_items['item_id'])\n",
        "target_u = list(test_items_by_user['item_id'])\n",
        "\n",
        "prec, recall, ndcg = compute_metrics(pred_u, target_u, top_k)\n",
        "print(f\"Precision@{top_k}: {prec:.4f}\")\n",
        "print(f\"Recall@{top_k}: {recall:.4f}\")\n",
        "print(f\"NDCG@{top_k}: {ndcg:.4f}\")"
      ],
      "execution_count": null,
      "outputs": [
        {
          "output_type": "stream",
          "text": [
            "Precision@200: 0.0300\n",
            "Recall@200: 0.5000\n",
            "NDCG@200: 0.2409\n"
          ],
          "name": "stdout"
        }
      ]
    },
    {
      "cell_type": "code",
      "metadata": {
        "id": "ZZyM1C-7KXHC"
      },
      "source": [
        "# 전체 user에 대한 평가\n",
        "top_k = 200\n",
        "prec_list = []\n",
        "recall_list = []\n",
        "ndcg_list = []\n",
        "\n",
        "# unique item 추리기\n",
        "ori_unique_items = train[['item_id', 'title', 'genre', 'genre_bin', 'country', new_feature]].drop_duplicates(['item_id'])\n",
        "\n",
        "for user_id in user_list:\n",
        "    total_bin = user_bin[user_id][0]\n",
        "    num_movies = user_bin[user_id][1]\n",
        "\n",
        "    # combined one-hot vector를 가지고 다른 item들과의 cosine similarity 계산\n",
        "    norm_bin = total_bin / num_movies\n",
        "\n",
        "    # 특정 user가 본 영화들 제외\n",
        "    train_items_by_user = train.loc[train.user_id==user_id]\n",
        "    unique_items = ori_unique_items[~ori_unique_items['item_id'].isin(train_items_by_user['item_id'])]\n",
        "    unique_items['similarity'] = unique_items[new_feature].apply(lambda x: np.array(x).dot(norm_bin) / (np.array(x).sum() + 1e-10))\n",
        "\n",
        "    # cosine similarity를 토대로 top-k item 구하기\n",
        "    sorted_items = unique_items.sort_values(by=['similarity'], axis=0, ascending=False)\n",
        "\n",
        "    test_items_by_user = test.loc[test.user_id==user_id]\n",
        "    pred_u = list(sorted_items['item_id'])\n",
        "    target_u = list(test_items_by_user['item_id'])\n",
        "\n",
        "    prec, recall, ndcg = compute_metrics(pred_u, target_u, top_k)\n",
        "    prec_list.append(prec)\n",
        "    recall_list.append(recall)\n",
        "    ndcg_list.append(ndcg)"
      ],
      "execution_count": null,
      "outputs": []
    },
    {
      "cell_type": "code",
      "metadata": {
        "id": "AVwVPciHKdr3",
        "colab": {
          "base_uri": "https://localhost:8080/"
        },
        "outputId": "c62a1ef7-b410-4186-db37-fe573514d898"
      },
      "source": [
        "print(f\"Precision@{top_k}: {np.mean(prec_list):.4f}\")\n",
        "print(f\"Recall@{top_k}: {np.mean(recall_list):.4f}\")\n",
        "print(f\"NDCG@{top_k}: {np.mean(ndcg_list):.4f}\")"
      ],
      "execution_count": null,
      "outputs": [
        {
          "output_type": "stream",
          "text": [
            "Precision@200: 0.0128\n",
            "Recall@200: 0.5074\n",
            "NDCG@200: 0.1560\n"
          ],
          "name": "stdout"
        }
      ]
    },
    {
      "cell_type": "markdown",
      "metadata": {
        "id": "Sax_NILNuUQ2"
      },
      "source": [
        "# 임베딩 기반 추천 모델 실습\n",
        "- Prod2Vec"
      ]
    },
    {
      "cell_type": "markdown",
      "metadata": {
        "id": "rLwlYzbFCxAZ"
      },
      "source": [
        "## 네이버 영화 Dataset 다운로드"
      ]
    },
    {
      "cell_type": "code",
      "metadata": {
        "colab": {
          "base_uri": "https://localhost:8080/"
        },
        "id": "30D2NnQJCxAs",
        "outputId": "9c6e117c-a5d5-48a6-fed7-4ae09483208c"
      },
      "source": [
        "import pandas as pd\n",
        "\n",
        "from google_drive_downloader import GoogleDriveDownloader as gdd\n",
        "# https://drive.google.com/file/d/1_HFBNRk-FUOO1nquQVfWbD1IiqnWNzOW/view?usp=sharing\n",
        "gdd.download_file_from_google_drive(\n",
        "    file_id='1_HFBNRk-FUOO1nquQVfWbD1IiqnWNzOW',\n",
        "    dest_path='./naver_movie_dataset.csv',\n",
        ")\n",
        "\n",
        "print(\"데이터 다운로드 완료!\")"
      ],
      "execution_count": null,
      "outputs": [
        {
          "output_type": "stream",
          "text": [
            "데이터 다운로드 완료!\n"
          ],
          "name": "stdout"
        }
      ]
    },
    {
      "cell_type": "code",
      "metadata": {
        "colab": {
          "base_uri": "https://localhost:8080/",
          "height": 287
        },
        "id": "FV-ySnTrm7vL",
        "outputId": "37ae45cc-22ee-4efc-a2ac-a17c795c8570"
      },
      "source": [
        "# 데이터셋 불러오기\n",
        "\"\"\"\n",
        "# of users: 2045, # of movies: 588, # of ratings: 51003\n",
        "\"\"\"\n",
        "\n",
        "column_names = ['user_id', 'item_id', 'rating', 'timestamp', 'title', 'people', 'country', 'genre']\n",
        "movie_data = pd.read_csv(\"naver_movie_dataset.csv\", names=column_names)\n",
        "movie_data.head()"
      ],
      "execution_count": null,
      "outputs": [
        {
          "output_type": "execute_result",
          "data": {
            "text/html": [
              "<div>\n",
              "<style scoped>\n",
              "    .dataframe tbody tr th:only-of-type {\n",
              "        vertical-align: middle;\n",
              "    }\n",
              "\n",
              "    .dataframe tbody tr th {\n",
              "        vertical-align: top;\n",
              "    }\n",
              "\n",
              "    .dataframe thead th {\n",
              "        text-align: right;\n",
              "    }\n",
              "</style>\n",
              "<table border=\"1\" class=\"dataframe\">\n",
              "  <thead>\n",
              "    <tr style=\"text-align: right;\">\n",
              "      <th></th>\n",
              "      <th>user_id</th>\n",
              "      <th>item_id</th>\n",
              "      <th>rating</th>\n",
              "      <th>timestamp</th>\n",
              "      <th>title</th>\n",
              "      <th>people</th>\n",
              "      <th>country</th>\n",
              "      <th>genre</th>\n",
              "    </tr>\n",
              "  </thead>\n",
              "  <tbody>\n",
              "    <tr>\n",
              "      <th>0</th>\n",
              "      <td>0</td>\n",
              "      <td>2</td>\n",
              "      <td>7</td>\n",
              "      <td>1494128040</td>\n",
              "      <td>빽 투 더 퓨쳐 2</td>\n",
              "      <td>['마이클 J. 폭스', '크리스토퍼 로이드', '리 톰슨', '토머스 F. 윌슨'...</td>\n",
              "      <td>['미국']</td>\n",
              "      <td>['SF', '코미디']</td>\n",
              "    </tr>\n",
              "    <tr>\n",
              "      <th>1</th>\n",
              "      <td>0</td>\n",
              "      <td>3</td>\n",
              "      <td>7</td>\n",
              "      <td>1467529800</td>\n",
              "      <td>빽 투 더 퓨쳐 3</td>\n",
              "      <td>['마이클 J. 폭스', '크리스토퍼 로이드', '메리 스틴버겐', '토머스 F. ...</td>\n",
              "      <td>['미국']</td>\n",
              "      <td>['서부', 'SF', '판타지', '코미디']</td>\n",
              "    </tr>\n",
              "    <tr>\n",
              "      <th>2</th>\n",
              "      <td>0</td>\n",
              "      <td>16</td>\n",
              "      <td>9</td>\n",
              "      <td>1513344120</td>\n",
              "      <td>이티</td>\n",
              "      <td>['헨리 토마스', '디 월리스', '피터 코요테', '로버트 맥노튼', '드류 베...</td>\n",
              "      <td>['미국']</td>\n",
              "      <td>['판타지', 'SF', '모험', '가족']</td>\n",
              "    </tr>\n",
              "    <tr>\n",
              "      <th>3</th>\n",
              "      <td>0</td>\n",
              "      <td>19</td>\n",
              "      <td>9</td>\n",
              "      <td>1424497980</td>\n",
              "      <td>록키</td>\n",
              "      <td>['실베스터 스탤론', '탈리아 샤이어', '버트 영', '칼 웨더스', '버제스 ...</td>\n",
              "      <td>['미국']</td>\n",
              "      <td>['드라마', '액션']</td>\n",
              "    </tr>\n",
              "    <tr>\n",
              "      <th>4</th>\n",
              "      <td>0</td>\n",
              "      <td>20</td>\n",
              "      <td>7</td>\n",
              "      <td>1427627340</td>\n",
              "      <td>록키 2</td>\n",
              "      <td>['실베스터 스탤론', '탈리아 샤이어', '버트 영', '칼 웨더스', '버제스 ...</td>\n",
              "      <td>['미국']</td>\n",
              "      <td>['드라마', '액션']</td>\n",
              "    </tr>\n",
              "  </tbody>\n",
              "</table>\n",
              "</div>"
            ],
            "text/plain": [
              "   user_id  item_id  ...  country                       genre\n",
              "0        0        2  ...   ['미국']               ['SF', '코미디']\n",
              "1        0        3  ...   ['미국']  ['서부', 'SF', '판타지', '코미디']\n",
              "2        0       16  ...   ['미국']   ['판타지', 'SF', '모험', '가족']\n",
              "3        0       19  ...   ['미국']               ['드라마', '액션']\n",
              "4        0       20  ...   ['미국']               ['드라마', '액션']\n",
              "\n",
              "[5 rows x 8 columns]"
            ]
          },
          "metadata": {
            "tags": []
          },
          "execution_count": 50
        }
      ]
    },
    {
      "cell_type": "code",
      "metadata": {
        "colab": {
          "base_uri": "https://localhost:8080/",
          "height": 203
        },
        "id": "nJ5fu95TGZMl",
        "outputId": "4763b3a0-06ed-4f46-e781-0d8d38871be3"
      },
      "source": [
        "# 좀 더 보기 편하게 column 재구성\n",
        "movie_data = movie_data[['user_id', 'item_id', 'rating', 'timestamp', 'title']]\n",
        "# gensim word2vec 함수에 넣기 위해선 string 형식으로 변형 필요\n",
        "movie_data['item_id'] = movie_data['item_id'].astype(str)\n",
        "movie_data.head()"
      ],
      "execution_count": null,
      "outputs": [
        {
          "output_type": "execute_result",
          "data": {
            "text/html": [
              "<div>\n",
              "<style scoped>\n",
              "    .dataframe tbody tr th:only-of-type {\n",
              "        vertical-align: middle;\n",
              "    }\n",
              "\n",
              "    .dataframe tbody tr th {\n",
              "        vertical-align: top;\n",
              "    }\n",
              "\n",
              "    .dataframe thead th {\n",
              "        text-align: right;\n",
              "    }\n",
              "</style>\n",
              "<table border=\"1\" class=\"dataframe\">\n",
              "  <thead>\n",
              "    <tr style=\"text-align: right;\">\n",
              "      <th></th>\n",
              "      <th>user_id</th>\n",
              "      <th>item_id</th>\n",
              "      <th>rating</th>\n",
              "      <th>timestamp</th>\n",
              "      <th>title</th>\n",
              "    </tr>\n",
              "  </thead>\n",
              "  <tbody>\n",
              "    <tr>\n",
              "      <th>0</th>\n",
              "      <td>0</td>\n",
              "      <td>2</td>\n",
              "      <td>7</td>\n",
              "      <td>1494128040</td>\n",
              "      <td>빽 투 더 퓨쳐 2</td>\n",
              "    </tr>\n",
              "    <tr>\n",
              "      <th>1</th>\n",
              "      <td>0</td>\n",
              "      <td>3</td>\n",
              "      <td>7</td>\n",
              "      <td>1467529800</td>\n",
              "      <td>빽 투 더 퓨쳐 3</td>\n",
              "    </tr>\n",
              "    <tr>\n",
              "      <th>2</th>\n",
              "      <td>0</td>\n",
              "      <td>16</td>\n",
              "      <td>9</td>\n",
              "      <td>1513344120</td>\n",
              "      <td>이티</td>\n",
              "    </tr>\n",
              "    <tr>\n",
              "      <th>3</th>\n",
              "      <td>0</td>\n",
              "      <td>19</td>\n",
              "      <td>9</td>\n",
              "      <td>1424497980</td>\n",
              "      <td>록키</td>\n",
              "    </tr>\n",
              "    <tr>\n",
              "      <th>4</th>\n",
              "      <td>0</td>\n",
              "      <td>20</td>\n",
              "      <td>7</td>\n",
              "      <td>1427627340</td>\n",
              "      <td>록키 2</td>\n",
              "    </tr>\n",
              "  </tbody>\n",
              "</table>\n",
              "</div>"
            ],
            "text/plain": [
              "   user_id item_id  rating   timestamp       title\n",
              "0        0       2       7  1494128040  빽 투 더 퓨쳐 2\n",
              "1        0       3       7  1467529800  빽 투 더 퓨쳐 3\n",
              "2        0      16       9  1513344120          이티\n",
              "3        0      19       9  1424497980          록키\n",
              "4        0      20       7  1427627340        록키 2"
            ]
          },
          "metadata": {
            "tags": []
          },
          "execution_count": 51
        }
      ]
    },
    {
      "cell_type": "code",
      "metadata": {
        "id": "V8E0Z5ze1eik"
      },
      "source": [
        "# movie title와 id를 매핑할 dictionary를 생성\n",
        "idx2title = {}\n",
        "for i, c in zip(movie_data['item_id'], movie_data['title']): \n",
        "    idx2title[i] = c\n",
        "\n",
        "# id와 movie title를 매핑할 dictionary를 생성\n",
        "title2idx = {}\n",
        "for i, c in zip(movie_data['item_id'], movie_data['title']): \n",
        "    title2idx[c] = i"
      ],
      "execution_count": null,
      "outputs": []
    },
    {
      "cell_type": "code",
      "metadata": {
        "colab": {
          "base_uri": "https://localhost:8080/"
        },
        "id": "Flky8VzjGa24",
        "outputId": "83050832-93af-43e6-a198-d5c3d05a4765"
      },
      "source": [
        "# 전체 데이터셋의 user, item 수 확인\n",
        "user_list = list(movie_data['user_id'].unique())\n",
        "item_list = list(movie_data['item_id'].unique())\n",
        "num_users = len(user_list)\n",
        "num_items = len(item_list)\n",
        "print(f\"# of users: {num_users}, # of items: {num_items}\")"
      ],
      "execution_count": null,
      "outputs": [
        {
          "output_type": "stream",
          "text": [
            "# of users: 2045, # of items: 588\n"
          ],
          "name": "stdout"
        }
      ]
    },
    {
      "cell_type": "markdown",
      "metadata": {
        "id": "zG5drquJC6QQ"
      },
      "source": [
        "## Train, test set 나누기"
      ]
    },
    {
      "cell_type": "code",
      "metadata": {
        "id": "J0v_CUmdGabH"
      },
      "source": [
        "# train, test set 나누기\n",
        "from sklearn.model_selection import train_test_split\n",
        "\n",
        "train_df, test_df = train_test_split(movie_data, test_size=0.2, stratify = movie_data['user_id'], random_state = 1234)"
      ],
      "execution_count": null,
      "outputs": []
    },
    {
      "cell_type": "markdown",
      "metadata": {
        "id": "Kf_8V20rxLlU"
      },
      "source": [
        "## Interaction matrix 형식으로 변형\n",
        "Movie rating을 implicit feedback으로 여김."
      ]
    },
    {
      "cell_type": "code",
      "metadata": {
        "id": "ywy4Ld-SxL_M"
      },
      "source": [
        "# train set에 있는 user set\n",
        "train_users = train_df['user_id'].unique()\n",
        "# sorting\n",
        "train_users = sorted(train_users)\n",
        "\n",
        "train = []\n",
        "for user_id in train_users:\n",
        "    itemset = train_df[train_df['user_id'] == user_id]['item_id'].tolist()\n",
        "    train.append(itemset)\n",
        "    # print(itemset)"
      ],
      "execution_count": null,
      "outputs": []
    },
    {
      "cell_type": "code",
      "metadata": {
        "id": "GKn9cu4kzHxE"
      },
      "source": [
        "# test set에서도 동일하게 구성\n",
        "test_users = test_df['user_id'].unique()\n",
        "# sorting\n",
        "test_users = sorted(test_users)\n",
        "\n",
        "test = []\n",
        "for user_id in test_users:\n",
        "    itemset = test_df[test_df['user_id'] == user_id]['item_id'].tolist()\n",
        "    test.append(itemset)"
      ],
      "execution_count": null,
      "outputs": []
    },
    {
      "cell_type": "markdown",
      "metadata": {
        "id": "QmW7505uvCdF"
      },
      "source": [
        "## Word2Vec으로 embeddings 생성\n",
        "- https://radimrehurek.com/gensim/models/word2vec.html"
      ]
    },
    {
      "cell_type": "code",
      "metadata": {
        "id": "X5y94kC5vKJg"
      },
      "source": [
        "from gensim.models import Word2Vec\n",
        "# CBoW: sg=0\n",
        "# Skip-gram: sg=1\n",
        "model = Word2Vec(window=260, sg=1, seed=2021)"
      ],
      "execution_count": null,
      "outputs": []
    },
    {
      "cell_type": "code",
      "metadata": {
        "colab": {
          "base_uri": "https://localhost:8080/"
        },
        "id": "AxMP2VyEvlZL",
        "outputId": "d1d3c6e9-8256-4973-e2d7-b77c7a491ea5"
      },
      "source": [
        "# vocabulary 구성\n",
        "model.build_vocab(train)\n",
        "\n",
        "# word2vec 학습\n",
        "model.train(train, total_examples=model.corpus_count, epochs=20) # total_examples=model.corpus_count"
      ],
      "execution_count": null,
      "outputs": [
        {
          "output_type": "execute_result",
          "data": {
            "text/plain": [
              "(560631, 816040)"
            ]
          },
          "metadata": {
            "tags": []
          },
          "execution_count": 110
        }
      ]
    },
    {
      "cell_type": "code",
      "metadata": {
        "colab": {
          "base_uri": "https://localhost:8080/"
        },
        "id": "kRMXgIKG07ii",
        "outputId": "df1b20e4-704f-4187-cc4b-66a5fbaaaf39"
      },
      "source": [
        "# 영화 전체 리스트\n",
        "print(list(title2idx.keys()))\n",
        "\n",
        "# 특정 영화의 word embedding 확인\n",
        "movie_title = '이티'\n",
        "print(f'영화 \"{movie_title}\"의 item_id: {title2idx[movie_title]}')\n",
        "# 모든 영화들에 대해서 다음과 같은 word embedding을 생성\n",
        "model.wv['16']"
      ],
      "execution_count": null,
      "outputs": [
        {
          "output_type": "stream",
          "text": [
            "['빽 투 더 퓨쳐 2', '빽 투 더 퓨쳐 3', '이티', '록키', '록키 2', '록키 3', '록키 4', '록키 5', '터미네이터', '죠스', '에이리언 2', '플래툰', '스팅', '죽은 시인의 사회', '람보', '람보 2', '십계', '언터처블', '황야의 무법자', '대부', '대부 2', '티파니에서 아침을', '토요일 밤의 열기', '러브 스토리', '고스트버스터즈', '고스트버스터즈 2', '탑건', '로마의 휴일', '사관과 신사', '아웃 오브 아프리카', '영웅본색', '라붐', '디어 헌터', '귀여운 여인', '폴링 인 러브', '사랑과 영혼', '로미오와 줄리엣', '터미네이터 2:오리지널', '칵테일', '컬러 오브 머니', '엠마뉴엘', '로보캅', '로보캅 2', '레인 맨', '내츄럴', '해리가 샐리를 만났을 때', '델마와 루이스', '뜨거운 것이 좋아', '스카페이스', '아라비아의 로렌스', '황야의 7인', '브룩클린으로 가는 마지막 비상구', '플래시댄스', '에프 엑스', '해바라기', '성룡의 미라클', '졸업', '차타레 부인의 사랑', '미드나잇 런', '미져리', '여학생', '지옥의 묵시록', '양들의 침묵', '태양은 가득히', '아비정전', '대부 3', '웨스트 사이드 스토리', '지붕 위의 바이올린', '캠퍼스 군단', '크레이머 대 크레이머', '7월 4일생', '특전 유보트', '파리에서의 마지막 탱고', '원초적 본능', '폴리스 스토리', nan, '토탈 리콜', '우묵배미의 사랑', '베로니카의 이중 생활', '엠마뉴엘 3 - 굿바이 엠마뉴엘', '피고인', '누가 로져 래빗을 모함했나', '투 문 정션', '원스 어폰 어 타임 인 아메리카', '분노의 역류', '시네마 천국', '죠스 2', '그렘린', '프레데터', '프레데터 2', '13일의 금요일', '늑대와 춤을', '가위손', '블레이드 러너', '스타워즈 에피소드 4 - 새로운 희망', '스타워즈 에피소드 5 - 제국의 역습', '스타워즈 에피소드 6 - 제다이의 귀환', '금지된 장난', '타워링', '내일을 향해 쏴라', '바람과 함께 사라지다', '레이더스', '인디아나 존스', '인디아나 존스 - 최후의 성전', '에이리언', '빠삐용', '싸이코', '자이언트', '벤허', '별들의 고향', '영자의 전성시대', '닥터 지바고', '사랑은 비를 타고', '카사블랑카', '정복자 펠레', '인도로 가는 길', '007 살인번호', '007 위기일발', '007 골드핑거', '007 선더볼 작전', '007 두번 산다', '007과 여왕', '007 다이아몬드는 영원히', '007 죽느냐 사느냐', '007 황금총을 가진 사나이', '007 나를 사랑한 스파이', '007 문레이커', '007 유어 아이스 온리', '007 옥터퍼시', '007 뷰 투 어 킬', '007 리빙 데이라이트', '007 살인면허', '개 같은 내 인생', '마네킨', '보디 히트', '스탠 바이 미', '마농의 샘 2', '시티 라이트', '쉘부르의 우산', '에덴의 동쪽', '양철북', '라임라이트', '드라이빙 미스 데이지', '레비아탄', '씨받이', '어우동', '아빠는 출장 중', '전함 포템킨', '전망 좋은 방', '콘돌', '붉은 10월', '모스크바는 눈물을 믿지 않는다', '오발탄', '비정성시', '베를린 천사의 시', '애마부인', '전쟁과 평화', '7인의 사무라이', '태양의 제국', '좋은 친구들', '천녀유혼', '제7의 봉인', '집시의 시간', '아이다호', '기쁜 우리 젊은 날', '칠수와 만수', '드레스드 투 킬', '헨리 5세', '개그맨', '마지막 전투', '셰인', '리썰 웨폰', '리썰 웨폰 2', '포세이돈 어드벤쳐', '킬링 필드', '그리스', '영웅본색 2', '영웅본색 3', '첩혈쌍웅', '아마데우스', '라붐 2', '엘리게이터', '내 이름은 튜니티', '고래 사냥', '매드 맥스', '매드 맥스 3', '나이트메어', '로보트 태권V', '맹룡과강', '13일의 금요일 4', '그날이 오면', '노틀담의 꼽추', '석양의 무법자', '레베카', '무숙자', '철십자 훈장', '비버리 힐스 캅', '서울 무지개', '영혼의 목걸이', '열차 안의 낯선 자들', '비 오는 날 수채화', '벤지', '라스트 콘서트', '제17 포로수용소', '천국의 문', '실버라도', '블랙 썬데이', '나이트메어 2 - 프레디의 복수', '나이트메어 3 - 꿈의 전사', '나이트메어 4 - 꿈의 지배자', '나이트메어 5 - 꿈꾸는 아이들', '나이트메어 6 - 프레디 죽다', '나일 살인사건', '나의 밤은 당신의 낮보다 아름답다', '폭주 기관차', '빽 투 더 퓨쳐', '나 홀로 집에', '코만도', '사운드 오브 뮤직', '위대한 독재자', '컬러 퍼플', '파리 텍사스', '뻐꾸기 둥지 위로 날아간 새', '다이 하드', '미션', '다이 하드 2', '취권', '마루타', '암흑가의 두 사람', '연인', '블루 라군', '아제 아제 바라아제', '섹스 거짓말 그리고 비디오테이프', '미드나잇 익스프레스', '스트리트 오브 파이어', '모던 타임즈', '프로젝트 A', 'JFK', '영구와 땡칠이', '구니스', '지존계상', '더티 댄싱', '마지막 황제', '새벽의 7인', '사랑을 위하여', '은행털이와 아빠와 나', '콰이강의 다리', '나바론 요새', '남과 여', '정무문', '용쟁호투', '뮤직 박스', '미지와의 조우', '배트맨', '니키타', '투씨', '간디', '사랑의 행로', '살인광 시대', '엘비라 마디간', '브로드캐스트 뉴스', '알제리 전투', '작은 신의 아이들', '레이디호크', '오즈의 마법사', '붉은 수수밭', '살바도르', '위대한 개츠비', '빅', '천국보다 낯선', '천금을 마다한 사나이', '커튼 클럽', '인어 공주', '사랑의 기적', '프랭키와 쟈니', '유혹은 밤 그림자처럼', '위험한 정사', '피셔 킹', '오멘 2', '나인 하프 위크', '북북서로 진로를 돌려라', '다크맨', '마이키 이야기', '장미의 이름', '파리 대왕', '벅시', '깊은 밤 깊은 곳에', '자전거 도둑', '하이 눈', '누구를 위하여 종은 울리나', '7년만의 외출', '돌아오지 않는 강', '맨발의 청춘', '미드나잇 카우보이', '불의 전차', '사막의 라이온', '신사는 금발을 좋아한다', '역마차', '영광의 탈출', '옛날 옛적 서부에서', '제3의 사나이', '이유없는 반항', '미워도 다시 한번 1부', '이창', '더티 해리', '아파치', '쿼바디스', '장군의 아들', '수잔 브링크의 아리랑', '라 밤바', '엑소시스트', '챔프', '스플래쉬', '최가박당', '베드룸 윈도우', '워킹 걸', '남부군', '불가사리', '나쁜 피', '천녀유혼 2 - 인간도', '프라하의 봄', '지존무상', '월 스트리트', '우뢰매', '깃발 없는 기수', '종횡사해', '그리스도 최후의 유혹', '왕과 나', '칼리굴라', '베어', '슈퍼맨', '슈퍼맨 2', '슈퍼맨 4 - 최강의 적', '나바론 요새 2', '람보 3', '애정의 조건', '007 네버 세이 네버 어게인', '메이저 리그', '백야', '아틱 히트', '비버리 힐스 캅 2', '총알탄 사나이', '첩혈가두', '사랑과 추억', '딕 트레이시', '네버엔딩 스토리', '용형호제 2 - 비룡계획', '스위치', '엑설런트 어드벤쳐', '페노미나', '천사와 사랑을', '불을 찾아서', '특경도룡', '공작왕', '레드 히트', '어벤저', '실베스타 스텔론의 탈옥', '그린 카드', '새엄마는 외계인', '트윈스', '적과의 동침', '장군의 아들 3', '로드 하우스', '19번째 남자', '바람 불어 좋은 날', '피라미드의 공포', '제트', '복수무정', '비공개', '바보 선언', '엔젤 하트', '도어즈', 'OK 목장의 결투', '파이어폭스', '베스트 키드', '신의 아그네스', '노 머시', '버스 정류장', '더티 해리 2 - 이것이 법이다', '더티 해리 3 - 집행자', '더티 해리 4 - 써든 임팩트', '가을 날의 동화', '새앙쥐 상륙 작전', '킹콩', '오멘', '호소자', '고래 사냥 2', '돌아이', '호소자 2', '이장호의 외인구단', '부시맨', '프로젝트A 2 : A계획 속집', '소오강호', '변강쇠', '뽕', '젊은 날의 초상', '코브라', '마지막 보이 스카웃', '코러스 라인', '48시간', '김의 전쟁', '장군의 아들 2', '부메랑', '더블 반담', '8번가의 기적', '로맨싱 스톤', '나의 성공의 비밀', '나이트호크', '크로커다일 던디', '크로커다일 던디 2', '나일의 대모험', '블랙 레인', '용적심', '촉산', '모스키토 코스트', '복수', '올리버', '우리 집의 낙원', '지상에서 영원으로', '패튼 대전차 군단', '바보들의 행진', '부시맨 4 - 크레이지 홍콩', '윌로우', '비틀즈: 하드 데이즈 나이트', '애들이 줄었어요', '도마단', '사브리나', '야수의 최후', '야행', '나이아가라', '폴리스 아카데미', '폴리스 아카데미 2 - 첫임무', '폴리스 아카데미 3 - 재훈련', '엘리게이터 2', '몽중인', '와일드 오키드', '킹콩 2', '캐논볼', '007 카지노 로얄', '코난 - 바바리안', '레드 소냐', '부시맨 2', '연산군', '매춘', '1941', '드라큐라', '이어 오브 드래곤', '나의 사랑 나의 신부', '죽음의 표적', '고령가 소년 살인사건', '전선 위의 참새', '블루 스틸', '아리랑', '꿈', '코난 2 - 디스트로이어', '깜보', '남과 북', '나자리노', '돈가방을 든 수녀', '아미티빌의 저주', '산딸기', '예스 마담 - 황가사저', '닌자 거북이', '세븐 싸인', '우먼 인 레드', '베스트 오브 더 베스트', '그레이스토크', '달마가 동쪽으로 간 까닭은?', '하바나', '어게인스트', '48시간 2', '사랑의 용기', '자유부인', '애마부인 4', '뻘', '따귀 일곱대', '모정', '젊은이의 양지', '백경', '새', '신의 아들', '깊고 푸른 밤', '마네킨 2', '스타 탄생', '당산대형', '브이 - 5부작 미니시리즈', '아이큐 제로', '쟈니 핸섬', '애마부인 3', '적 그리고 사랑 이야기', '배트 21', '소권괴초 2 - 용등호약', '밤 그리고 도시', '변강쇠 2', '총알탄 사나이 2', '파울 플레이', '마이 튜터', '파리 애마', '강시번생', '끝없는 사랑', '사랑이 머무는 곳에', '아메리칸 지골로', '겨울 여자', '너에게로 또다시', '세 남자와 아기 2', '마유미', '애마부인 2', '접시꽃 당신', '애마부인 5', '애마부인 6', '모두가 죽이고 싶던 여자', '영심이', '베를린 리포트', '물 위를 걷는 여자', '레이디 인 블랙', '18 어게인', '맥아더', '핑크 팬더 4 - 핑크 팬더의 역습', '사의 찬미', '비처럼 음악처럼', '사랑의 파도', '수탉', '블랙 에이리언', '작은 사랑의 멜로디', '마지막 사랑', '애란', '내 사랑 동키호테', '홀리데이 킬러', '실버 스트릭', '빌리티스', '남과 북 2', '마이 웨이', '수업료', '호소자 6', '펌프킨헤드', '삼손과 데릴라', '성 리수일뎐', '성춘향', '빙점 81', '영환도사', '복카치오 91', '마이키 이야기 2', '학창 보고서', '할리와 말보로 맨', '열혈천사', '쇼처럼 즐거운 인생은 없다', '등대여명', '자전거를 타고 온 연인', '브레이크아웃', '저 하늘에 태양이', '져지 걸', '겨울 여자 2', '천국으로 가는 장의사', '7일간의 사랑', '사랑과 슬픔의 맨하탄', '바람과 라이온', '비너스의 여름시', '사이공', '파리의 여인', '타이페이 스토리', '호소자 3 - 고아유랑기', '공룡 선생', '사랑할 때와 이별할 때', '매시', '블러드 심플', '원 + 씩스', '개인 교수 2', '서부 개척사', '포스트맨은 벨을 두 번 울린다', '카르멘', '대통령을 만드는 사람들', '블루 하트', '갈매기의 꿈', '뉴욕세남자와아기', '하타리', '반도레로', '비치 바니즈', '비목', '이자벨 에버하트', '한니발', '선샤인']\n",
            "영화 \"이티\"의 item_id: 16\n"
          ],
          "name": "stdout"
        },
        {
          "output_type": "execute_result",
          "data": {
            "text/plain": [
              "array([ 0.04281232, -0.04317594,  0.14327165, -0.08081168,  0.08056643,\n",
              "       -0.09194097, -0.05745801,  0.21727721,  0.05052005,  0.10638651,\n",
              "       -0.10162892, -0.0049228 , -0.09344359, -0.12061207,  0.16668229,\n",
              "       -0.17037693, -0.0997839 , -0.18003686, -0.02929765,  0.18518132,\n",
              "        0.0545419 ,  0.04112897,  0.00846379, -0.28931582, -0.24444336,\n",
              "        0.09076742, -0.05354109, -0.20915654, -0.07483517, -0.13917358,\n",
              "       -0.02949229, -0.2573437 , -0.22061172, -0.06943464, -0.28153116,\n",
              "       -0.0902845 , -0.25774255, -0.1313576 , -0.00522048, -0.10679169,\n",
              "       -0.13445112, -0.1771257 ,  0.00251107,  0.11551886,  0.10233859,\n",
              "        0.05326734, -0.2232377 , -0.14822614, -0.03939514,  0.01198506,\n",
              "        0.01219224, -0.12387485,  0.07103778,  0.05230504, -0.08538476,\n",
              "        0.26911637,  0.29993787,  0.20450963,  0.43828613,  0.12134103,\n",
              "        0.01512854, -0.04205042,  0.18994302,  0.20904493,  0.09929466,\n",
              "       -0.07738757, -0.12921491, -0.16833441, -0.03807393,  0.02101078,\n",
              "       -0.24847695,  0.00850207, -0.02171336, -0.05497355,  0.19286335,\n",
              "        0.03344241,  0.02501577,  0.0991671 , -0.09410445,  0.12600276,\n",
              "       -0.3037426 ,  0.13882591,  0.11721283,  0.14833623, -0.09389424,\n",
              "       -0.1077752 , -0.05296276, -0.05537355,  0.09816892, -0.03674568,\n",
              "        0.1931604 ,  0.24559778, -0.18018813, -0.06494401, -0.08859262,\n",
              "        0.12838861,  0.23175555, -0.15715906,  0.01178787,  0.1694925 ],\n",
              "      dtype=float32)"
            ]
          },
          "metadata": {
            "tags": []
          },
          "execution_count": 111
        }
      ]
    },
    {
      "cell_type": "markdown",
      "metadata": {
        "id": "XDO4MCGx2U9A"
      },
      "source": [
        "## 해당 영화와 비슷한 영화 확인"
      ]
    },
    {
      "cell_type": "code",
      "metadata": {
        "colab": {
          "base_uri": "https://localhost:8080/"
        },
        "id": "SonADCS05AZ2",
        "outputId": "50907737-ac66-4b8c-9f30-89d2bc0cb596"
      },
      "source": [
        "movie_title = '이티'\n",
        "sim_movies = model.wv.most_similar(title2idx[movie_title], topn=10)\n",
        "print('================')\n",
        "print('영화, similarity')\n",
        "print('================')\n",
        "for i, (idx, _) in enumerate(sim_movies):\n",
        "    print(f'{idx2title[idx]}, {sim_movies[i][1]:.4f}')"
      ],
      "execution_count": null,
      "outputs": [
        {
          "output_type": "stream",
          "text": [
            "================\n",
            "영화, similarity\n",
            "================\n",
            "미져리, 0.6795\n",
            "아마데우스, 0.6766\n",
            "토탈 리콜, 0.6642\n",
            "벤허, 0.6640\n",
            "사랑과 영혼, 0.6631\n",
            "양들의 침묵, 0.6577\n",
            "빽 투 더 퓨쳐, 0.6509\n",
            "바람과 함께 사라지다, 0.6471\n",
            "죽은 시인의 사회, 0.6469\n",
            "터미네이터, 0.6438\n"
          ],
          "name": "stdout"
        }
      ]
    },
    {
      "cell_type": "markdown",
      "metadata": {
        "id": "a3ewK1eIdPfz"
      },
      "source": [
        "## 여러 개의 영화를 가지고 추천"
      ]
    },
    {
      "cell_type": "code",
      "metadata": {
        "id": "3AdGN2U9dK6F"
      },
      "source": [
        "# 사용자가 본 영화들의 embedding의 평균 계산\n",
        "def aggregate_vectors(movie_list):\n",
        "    product_vec = []\n",
        "    for i in movie_list:\n",
        "        try:\n",
        "            product_vec.append(model[i])\n",
        "        except KeyError:\n",
        "            continue\n",
        "        \n",
        "    return np.mean(product_vec, axis=0)"
      ],
      "execution_count": null,
      "outputs": []
    },
    {
      "cell_type": "code",
      "metadata": {
        "colab": {
          "base_uri": "https://localhost:8080/"
        },
        "id": "rQb439uzjGEU",
        "outputId": "e18b84a4-3e4b-4808-d3bd-b62c1fc9ee75"
      },
      "source": [
        "user_idx = 10\n",
        "movie_list = train[user_idx]\n",
        "target_u = test[user_idx]\n",
        "print(movie_list)\n",
        "# 특정 user의 average word embedding\n",
        "avg_emb = aggregate_vectors(movie_list)\n",
        "avg_emb.shape\n",
        "avg_emb"
      ],
      "execution_count": null,
      "outputs": [
        {
          "output_type": "stream",
          "text": [
            "['353', '192', '0', '252', '196', '36', '474', '165', '90', '88', '343', '6', '325', '107', '10', '167', '513', '373', '43', '55', '26', '124', '83', '35', '94', '3', '184', '483', '14', '41', '480', '120', '315', '405', '64', '236', '2', '18', '587', '44', '19', '82', '442', '81', '418']\n"
          ],
          "name": "stdout"
        },
        {
          "output_type": "execute_result",
          "data": {
            "text/plain": [
              "array([ 0.03856993, -0.0961246 ,  0.09010831,  0.00995466,  0.03412318,\n",
              "       -0.06117509, -0.09824856,  0.1284571 , -0.01692738, -0.05303491,\n",
              "       -0.10091333, -0.03992696, -0.07363348, -0.08581712,  0.12302535,\n",
              "       -0.13707685, -0.14919117, -0.12231461,  0.08999959,  0.09863811,\n",
              "       -0.13792337,  0.04791999,  0.01710796, -0.13386646, -0.18302943,\n",
              "        0.11230587,  0.00801678, -0.30733883,  0.05668146, -0.04092204,\n",
              "       -0.1473755 , -0.15037891, -0.20005646,  0.02946776, -0.0568874 ,\n",
              "       -0.04843221, -0.13045739, -0.12622413,  0.10136108,  0.04673307,\n",
              "       -0.12729508, -0.18372285,  0.08597168,  0.06479196,  0.20119265,\n",
              "        0.11142042, -0.07119346, -0.11229873, -0.03582325, -0.0252181 ,\n",
              "       -0.03773727, -0.03072629,  0.07724961,  0.02219275, -0.03173674,\n",
              "        0.2894631 ,  0.11283343,  0.10550309,  0.23908533, -0.01123946,\n",
              "        0.10467631, -0.19198288,  0.30330604,  0.0747011 ,  0.240452  ,\n",
              "       -0.05292048, -0.13169038, -0.11594621, -0.1191218 ,  0.02176018,\n",
              "       -0.21949387, -0.11988211,  0.06748459,  0.02082565, -0.01528096,\n",
              "        0.06871023,  0.05767966,  0.13194704,  0.15131132,  0.04768411,\n",
              "       -0.1419006 ,  0.14841937,  0.026207  ,  0.17615618, -0.06223917,\n",
              "       -0.01899371, -0.01197283, -0.0190383 ,  0.11527533, -0.0337927 ,\n",
              "        0.05295461,  0.17792746, -0.10542072, -0.06118618,  0.02235433,\n",
              "        0.06557771,  0.15482934, -0.04938512, -0.04901621,  0.20850432],\n",
              "      dtype=float32)"
            ]
          },
          "metadata": {
            "tags": []
          },
          "execution_count": 114
        }
      ]
    },
    {
      "cell_type": "code",
      "metadata": {
        "colab": {
          "base_uri": "https://localhost:8080/"
        },
        "id": "TUW_5vdjjl8I",
        "outputId": "0cc4b378-a482-4c03-c72e-512c3d46a5dc"
      },
      "source": [
        "sim_movies_all = model.similar_by_vector(avg_emb, topn=300)\n",
        "# train에 없는 영화만 남기기\n",
        "sim_movies = []\n",
        "for i, _ in enumerate(sim_movies_all):\n",
        "    if sim_movies_all[i][0] not in movie_list:\n",
        "        sim_movies.append((sim_movies_all[i][0], sim_movies_all[i][1]))\n",
        "print('=====================')\n",
        "print('영화, idx, similarity')\n",
        "print('=====================')\n",
        "# top-N movie list 반환\n",
        "pred_u = []\n",
        "for i, (idx, _) in enumerate(sim_movies):\n",
        "    pred_u.append(sim_movies[i][0])\n",
        "    print(f'{idx2title[idx]}, {sim_movies[i][0]}, {sim_movies[i][1]:.4f}')\n",
        "    if i == 9:\n",
        "        break"
      ],
      "execution_count": null,
      "outputs": [
        {
          "output_type": "stream",
          "text": [
            "=====================\n",
            "영화, idx, similarity\n",
            "=====================\n",
            "레인 맨, 188, 0.7931\n",
            "가위손, 561, 0.7922\n",
            "사랑과 영혼, 144, 0.7829\n",
            "빽 투 더 퓨쳐, 1, 0.7809\n",
            "터미네이터 2:오리지널, 164, 0.7785\n",
            "이티, 16, 0.7756\n",
            "델마와 루이스, 203, 0.7735\n",
            "미션, 70, 0.7733\n",
            "배트맨, 199, 0.7663\n",
            "원스 어폰 어 타임 인 아메리카, 575, 0.7650\n"
          ],
          "name": "stdout"
        }
      ]
    },
    {
      "cell_type": "markdown",
      "metadata": {
        "id": "-0yKqtmYAF3w"
      },
      "source": [
        "## Precision, Recall, NDCG@K를 통한 평가"
      ]
    },
    {
      "cell_type": "code",
      "metadata": {
        "id": "YwDCObzWAF33"
      },
      "source": [
        "import math\n",
        "\n",
        "# evaluation metrices: Precision, Recall, NDCG@K\n",
        "def compute_metrics(pred_u, target_u, top_k):\n",
        "    pred_k = pred_u[:top_k]\n",
        "    num_target_items = len(target_u)\n",
        "    \n",
        "    hits_k = [(i + 1, item) for i, item in enumerate(pred_k) if item in target_u]\n",
        "    # print(\"실제로 맞춘 items (position, idx):\", hits_k)\n",
        "    num_hits = len(hits_k)\n",
        "\n",
        "    idcg_k = 0.0\n",
        "    for i in range(1, min(num_target_items, top_k) + 1):\n",
        "        idcg_k += 1 / math.log(i + 1, 2)\n",
        "\n",
        "    dcg_k = 0.0\n",
        "    for idx, item in hits_k:\n",
        "        dcg_k += 1 / math.log(idx + 1, 2)\n",
        "    \n",
        "    prec_k = num_hits / top_k\n",
        "    recall_k = num_hits / min(num_target_items, top_k)\n",
        "    ndcg_k = dcg_k / idcg_k\n",
        "\n",
        "    return prec_k, recall_k, ndcg_k"
      ],
      "execution_count": null,
      "outputs": []
    },
    {
      "cell_type": "code",
      "metadata": {
        "colab": {
          "base_uri": "https://localhost:8080/"
        },
        "id": "bOD6wQ3YAF34",
        "outputId": "a9652391-7a00-4921-dce6-2a4f1c9acf52"
      },
      "source": [
        "top_k = 200\n",
        "print(f'모델이 예측한 movies: {pred_u}')\n",
        "print(f'실제로 본 movies: {target_u}')\n",
        "# user 한 명에 대한 평가\n",
        "prec, recall, ndcg = compute_metrics(pred_u, target_u, top_k)\n",
        "print(f\"Precison@{top_k}: {prec:.4f}\")\n",
        "print(f\"Recall@{top_k}: {recall:.4f}\")\n",
        "print(f\"NDCG@{top_k}: {ndcg:.4}\")"
      ],
      "execution_count": null,
      "outputs": [
        {
          "output_type": "stream",
          "text": [
            "모델이 예측한 movies: ['188', '561', '144', '1', '164', '16', '203', '70', '199', '575']\n",
            "실제로 본 movies: ['97', '190', '87', '334', '561', '575', '1', '164', '66', '245', '91', '20']\n",
            "Precison@200: 0.0200\n",
            "Recall@200: 0.3333\n",
            "NDCG@200: 0.3412\n"
          ],
          "name": "stdout"
        }
      ]
    },
    {
      "cell_type": "code",
      "metadata": {
        "id": "eqB7lxZUhzHI"
      },
      "source": [
        "# 전체 user에 대한 평가\n",
        "top_k = 200\n",
        "prec_list = []\n",
        "recall_list = []\n",
        "ndcg_list = []\n",
        "\n",
        "for user_idx in range(num_users):\n",
        "    movie_list = train[user_idx]\n",
        "    target_u = test[user_idx]\n",
        "    avg_emb = aggregate_vectors(movie_list)\n",
        "\n",
        "    sim_movies_all = model.similar_by_vector(avg_emb, topn=500)\n",
        "    # train에 없는 영화만 남기기\n",
        "    sim_movies = []\n",
        "    for i, _ in enumerate(sim_movies_all):\n",
        "        if sim_movies_all[i][0] not in movie_list:\n",
        "            sim_movies.append((sim_movies_all[i][0], sim_movies_all[i][1]))\n",
        "    # top-N movie list 반환\n",
        "    pred_u = []\n",
        "    for i, (idx, _) in enumerate(sim_movies):\n",
        "        pred_u.append(sim_movies[i][0])\n",
        "\n",
        "    prec, recall, ndcg = compute_metrics(pred_u, target_u, top_k)\n",
        "    prec_list.append(prec)\n",
        "    recall_list.append(recall)\n",
        "    ndcg_list.append(ndcg)"
      ],
      "execution_count": null,
      "outputs": []
    },
    {
      "cell_type": "code",
      "metadata": {
        "colab": {
          "base_uri": "https://localhost:8080/"
        },
        "id": "ne1m7hJThzHP",
        "outputId": "4a57fba2-be49-4aee-9afe-18c32e5962b7"
      },
      "source": [
        "print(f\"Precision@{top_k}: {np.mean(prec_list):.4f}\")\n",
        "print(f\"Recall@{top_k}: {np.mean(recall_list):.4f}\")\n",
        "print(f\"NDCG@{top_k}: {np.mean(ndcg_list):.4f}\")"
      ],
      "execution_count": null,
      "outputs": [
        {
          "output_type": "stream",
          "text": [
            "Precision@200: 0.0224\n",
            "Recall@200: 0.9071\n",
            "NDCG@200: 0.3589\n"
          ],
          "name": "stdout"
        }
      ]
    },
    {
      "cell_type": "markdown",
      "metadata": {
        "id": "dHcCnEIAjNcR"
      },
      "source": [
        "# Association rule (AR), sequential rule (SR), markov chain (MC) 실습"
      ]
    },
    {
      "cell_type": "markdown",
      "metadata": {
        "id": "C1nebpfN3TO3"
      },
      "source": [
        "## 기본 패키지 및 함수"
      ]
    },
    {
      "cell_type": "code",
      "metadata": {
        "id": "DSe5FjE43TO5"
      },
      "source": [
        "# 기본 패키지 import\n",
        "import pandas as pd\n",
        "import numpy as np\n",
        "import warnings\n",
        "import random\n",
        "import math\n",
        "\n",
        "# colab에서 나오는 warning들을 무시\n",
        "warnings.filterwarnings('ignore')\n",
        "\n",
        "# 2d array를 dictionary로 만듦\n",
        "# input: [[user_id, item_id, timestamp], ...] 형태의 numpy array\n",
        "# output: {user_id: [item1, item2, ......], ...} 형태의 dictionary\n",
        "def make_to_dict(data):\n",
        "    data_dict = {}\n",
        "    cur_user = -1\n",
        "    tmp_user = []\n",
        "    for row in data:\n",
        "        user_id, item_id = row[0], row[1]\n",
        "        if user_id != cur_user:\n",
        "            if cur_user != -1:\n",
        "                tmp = np.asarray(tmp_user)\n",
        "                tmp_items = tmp[:,1]\n",
        "                data_dict[cur_user] = list(tmp_items)\n",
        "                \n",
        "            cur_user = user_id\n",
        "            tmp_user = []\n",
        "        tmp_user.append(row)\n",
        "\n",
        "    if cur_user != -1:\n",
        "        tmp = np.asarray(tmp_user)\n",
        "        tmp_items = tmp[:,1]\n",
        "        data_dict[cur_user] = list(tmp_items)\n",
        "        \n",
        "    return data_dict\n",
        "\n",
        "\n",
        "# train set과 test set을 shuffle없이 나눔\n",
        "# input: [[user_id, item_id, timestamp], ...] 형태의 numpy array\n",
        "# output\n",
        "#    - train: [[user_id, item_id, timestamp], ...] 형태의 numpy array\n",
        "#    - test: [[user_id, item_id, timestamp], ...] 형태의 numpy array\n",
        "def train_test_split_no_shuffle(movie_data):\n",
        "    train = []\n",
        "    test = []\n",
        "    cur_user = -1\n",
        "    tmp_user = []\n",
        "    for row in movie_data:\n",
        "        user_id, item_id = row[0], row[1]\n",
        "        if user_id != cur_user:\n",
        "            if cur_user != -1:\n",
        "                user_rating_num = len(tmp_user)\n",
        "                split_index = int(user_rating_num*0.8)\n",
        "                train.extend(tmp_user[:split_index])\n",
        "                test.extend(tmp_user[split_index:])\n",
        "\n",
        "            cur_user = user_id\n",
        "            tmp_user = []\n",
        "        tmp_user.append(row)\n",
        "\n",
        "    if cur_user != -1:\n",
        "        user_rating_num = len(tmp_user)\n",
        "        split_index = int(user_rating_num*0.8)\n",
        "        train.extend(tmp_user[:split_index])\n",
        "        test.extend(tmp_user[split_index:])\n",
        "\n",
        "    return np.asanyarray(train), np.asanyarray(test)\n",
        "\n",
        "\n",
        "# Precision, Recall, NDCG@K 평가\n",
        "# input\n",
        "#    - pred_u: 예측 값으로 정렬 된 item index\n",
        "#    - target_u: test set의 item index\n",
        "#    - top_k: top-k에서의 k 값\n",
        "# output: prec_k, recall_k, ndcg_k의 점수\n",
        "def compute_metrics(pred_u, target_u, top_k):\n",
        "    pred_k = pred_u[:top_k]\n",
        "    num_target_items = len(target_u)\n",
        "\n",
        "    hits_k = [(i + 1, item) for i, item in enumerate(pred_k) if item in target_u]\n",
        "\n",
        "    num_hits = len(hits_k)\n",
        "\n",
        "    idcg_k = 0.0\n",
        "    for i in range(1, min(num_target_items, top_k) + 1):\n",
        "        idcg_k += 1 / math.log(i + 1, 2)\n",
        "\n",
        "    dcg_k = 0.0\n",
        "    for idx, item in hits_k:\n",
        "        dcg_k += 1 / math.log(idx + 1, 2)\n",
        "    \n",
        "    prec_k = num_hits / top_k\n",
        "    recall_k = num_hits / min(num_target_items, top_k)\n",
        "    ndcg_k = dcg_k / idcg_k\n",
        "\n",
        "    return prec_k, recall_k, ndcg_k"
      ],
      "execution_count": null,
      "outputs": []
    },
    {
      "cell_type": "markdown",
      "metadata": {
        "id": "apvJ4xjnquDL"
      },
      "source": [
        "## 네이버 영화 Dataset 다운로드"
      ]
    },
    {
      "cell_type": "code",
      "metadata": {
        "colab": {
          "base_uri": "https://localhost:8080/"
        },
        "id": "Z49gFvANqrTI",
        "outputId": "3c053fbd-0bf8-441a-bf8b-b5a2b70820ff"
      },
      "source": [
        "from google_drive_downloader import GoogleDriveDownloader as gdd\n",
        "# https://drive.google.com/file/d/1_HFBNRk-FUOO1nquQVfWbD1IiqnWNzOW/view?usp=sharing\n",
        "gdd.download_file_from_google_drive(\n",
        "    file_id='1_HFBNRk-FUOO1nquQVfWbD1IiqnWNzOW',\n",
        "    dest_path='./naver_movie_dataset.csv',\n",
        ")\n",
        "\n",
        "print(\"데이터 다운로드 완료!\")"
      ],
      "execution_count": null,
      "outputs": [
        {
          "output_type": "stream",
          "text": [
            "데이터 다운로드 완료!\n"
          ],
          "name": "stdout"
        }
      ]
    },
    {
      "cell_type": "code",
      "metadata": {
        "colab": {
          "base_uri": "https://localhost:8080/"
        },
        "id": "lzp2bS3JqrTS",
        "outputId": "2039b75a-1434-44f6-dea8-4b79f291b430"
      },
      "source": [
        "# 데이터셋 불러오기\n",
        "column_names = ['user_id', 'item_id', 'rating', 'timestamp', 'title', 'people', 'country', 'genre']\n",
        "movie_data = pd.read_csv(\"naver_movie_dataset.csv\", names=column_names)\n",
        "\n",
        "# 전체 데이터셋의 user, item 수 확인\n",
        "user_list = list(movie_data['user_id'].unique())\n",
        "item_list = list(movie_data['item_id'].unique())\n",
        "num_users = len(user_list)\n",
        "num_items = len(item_list)\n",
        "num_ratings = len(movie_data)\n",
        "print(f\"# of users: {num_users},  # of items: {num_items},  # of ratings: {num_ratings}\")"
      ],
      "execution_count": null,
      "outputs": [
        {
          "output_type": "stream",
          "text": [
            "# of users: 2045,  # of items: 588,  # of ratings: 51003\n"
          ],
          "name": "stdout"
        }
      ]
    },
    {
      "cell_type": "markdown",
      "metadata": {
        "id": "sxAhVk15hqlr"
      },
      "source": [
        "## 데이터 전처리 및 train, test set 나누기"
      ]
    },
    {
      "cell_type": "code",
      "metadata": {
        "id": "-905xDyY2Pj6"
      },
      "source": [
        "# movie title와 id를 매핑할 dict를 생성\n",
        "item_id_title = movie_data[['item_id', 'title']]\n",
        "item_id_title = item_id_title.drop_duplicates()\n",
        "\n",
        "idx2title = {}\n",
        "for i, c in zip(item_id_title['item_id'], item_id_title['title']): \n",
        "    idx2title[i] = c\n",
        "\n",
        "# train, test set을 timestamp기준으로 나누기\n",
        "movie_data = movie_data[['user_id', 'item_id', 'timestamp']]\n",
        "movie_data = movie_data.sort_values(by=[\"user_id\", \"timestamp\"], ascending=[True, True]) # timestamp로 정렬\n",
        "movie_data = movie_data.to_numpy()\n",
        "train, test = train_test_split_no_shuffle(movie_data)"
      ],
      "execution_count": null,
      "outputs": []
    },
    {
      "cell_type": "markdown",
      "metadata": {
        "id": "0YnZrHCx1cXj"
      },
      "source": [
        "## Association Rule (AR) 구현"
      ]
    },
    {
      "cell_type": "code",
      "metadata": {
        "id": "utT_lOpfRvET"
      },
      "source": [
        "class AssociationRules: \n",
        "    def __init__(self):\n",
        "        self.rules = dict()\n",
        "            \n",
        "    def fit(self, data):\n",
        "        cur_session = -1\n",
        "        last_items = []\n",
        "        for row in data:\n",
        "            session_id, item_id = row[0], row[1]\n",
        "            \n",
        "            if session_id != cur_session:\n",
        "                cur_session = session_id\n",
        "                last_items = []\n",
        "            else: \n",
        "                for item_id2 in last_items: \n",
        "                    \n",
        "                    if not item_id in self.rules :\n",
        "                        self.rules[item_id] = dict()\n",
        "                    \n",
        "                    if not item_id2 in self.rules :\n",
        "                        self.rules[item_id2] = dict()\n",
        "                    \n",
        "                    if not item_id in self.rules[item_id2]:\n",
        "                        self.rules[item_id2][item_id] = 0\n",
        "                    \n",
        "                    if not item_id2 in self.rules[item_id]:\n",
        "                        self.rules[item_id][item_id2] = 0\n",
        "                    \n",
        "                    self.rules[item_id][item_id2] += 1\n",
        "                    self.rules[item_id2][item_id] += 1\n",
        "                    \n",
        "            last_items.append( item_id )\n",
        "\n",
        "\n",
        "        # normalization\n",
        "        cur_session = -1\n",
        "        normal = dict()\n",
        "        items = []\n",
        "        for row in data:\n",
        "            session_id, item_id = row[0], row[1]\n",
        "            if session_id != cur_session:\n",
        "                if len(items) != 0:\n",
        "                    session_len = len(items) - 1 # |p|-1\n",
        "                    for item_in_session in items:\n",
        "                        if not item_in_session in normal:\n",
        "                            normal[item_in_session] = 0\n",
        "                        normal[item_in_session] += session_len\n",
        "\n",
        "                cur_session = session_id\n",
        "                items = []\n",
        "            else:\n",
        "                items.append(item_id)\n",
        "\n",
        "        session_len = len(items) - 1 # |p|-1\n",
        "        for item_in_session in items:\n",
        "            if not item_in_session in normal:\n",
        "                normal[item_in_session] = 0\n",
        "            normal[item_in_session] += session_len\n",
        "\n",
        "\n",
        "        for item_id1 in self.rules.keys():\n",
        "            if item_id1 in normal:\n",
        "                normal_term = normal[item_id1]\n",
        "            else:\n",
        "                continue\n",
        "\n",
        "            if normal_term == 0:\n",
        "                continue\n",
        "\n",
        "            for item_id2 in self.rules[item_id1].keys():\n",
        "                self.rules[item_id1][item_id2] = self.rules[item_id1][item_id2] / normal_term\n",
        "\n",
        "\n",
        "    def predict(self, input_item_id, predict_for_item_ids):\n",
        "        # input_item_id: session의 마지막 item id\n",
        "        # predict_for_item_ids: missing feedback (추천 후보 항목들)\n",
        "\n",
        "        preds = np.zeros(len(predict_for_item_ids))\n",
        "\n",
        "        if input_item_id in self.rules:\n",
        "            for i, predicted_item in enumerate(predict_for_item_ids):\n",
        "                if predicted_item in self.rules[input_item_id]:\n",
        "                    preds[i] = self.rules[input_item_id][predicted_item]\n",
        "                else:\n",
        "                    preds[i] = 0.0\n",
        "\n",
        "        return preds"
      ],
      "execution_count": null,
      "outputs": []
    },
    {
      "cell_type": "markdown",
      "metadata": {
        "id": "a3twA5BHkWLs"
      },
      "source": [
        "## Sequential Rule (SR) 구현"
      ]
    },
    {
      "cell_type": "code",
      "metadata": {
        "id": "YOY9zuir22DF"
      },
      "source": [
        "class SequentialRules: \n",
        "    def __init__(self):\n",
        "        self.rules = dict()\n",
        "            \n",
        "    def fit(self, data):\n",
        "        cur_session = -1\n",
        "        last_items = []\n",
        "\n",
        "        for row in data:\n",
        "            session_id, item_id = row[0], row[1]\n",
        "\n",
        "            if session_id != cur_session:\n",
        "                cur_session = session_id\n",
        "                last_items = []\n",
        "            else:\n",
        "                for i in range(1, len(last_items) + 1):\n",
        "                    prev_item = last_items[-i]\n",
        "\n",
        "                    if not prev_item in self.rules:\n",
        "                        self.rules[prev_item] = dict()\n",
        "\n",
        "                    if not item_id in self.rules[prev_item]:\n",
        "                        self.rules[prev_item][item_id] = 0\n",
        "\n",
        "                    weight = 1/i\n",
        "                    self.rules[prev_item][item_id] += weight\n",
        "\n",
        "            last_items.append(item_id)\n",
        "\n",
        "\n",
        "        # normalization\n",
        "        normal = dict()\n",
        "        cur_session = -1\n",
        "        x = 1\n",
        "        for row in data:\n",
        "            session_id, item_id = row[0], row[1]\n",
        "            if session_id != cur_session:\n",
        "                cur_session = session_id\n",
        "                x = 1\n",
        "            else:\n",
        "                if not item_id in normal:\n",
        "                    normal[item_id] = 0\n",
        "                normal[item_id] += x\n",
        "            x += 1\n",
        "\n",
        "        for item_id1 in self.rules.keys():\n",
        "            if item_id1 in normal:\n",
        "                normal_term = normal[item_id1]\n",
        "            else:\n",
        "                continue\n",
        "\n",
        "            if normal_term == 0:\n",
        "                continue\n",
        "\n",
        "            for item_id2 in self.rules[item_id1].keys():\n",
        "                self.rules[item_id1][item_id2] = self.rules[item_id1][item_id2] / normal_term\n",
        "\n",
        "\n",
        "    def predict(self, input_item_id, predict_for_item_ids):\n",
        "        # input_item_id: session의 마지막 item id\n",
        "        # predict_for_item_ids: missing feedback (추천 후보 항목들)\n",
        "\n",
        "        preds = np.zeros(len(predict_for_item_ids))\n",
        "\n",
        "        if input_item_id in self.rules:\n",
        "            for i, predicted_item in enumerate(predict_for_item_ids):\n",
        "                if predicted_item in self.rules[input_item_id]:\n",
        "                    preds[i] = self.rules[input_item_id][predicted_item]\n",
        "                else:\n",
        "                    preds[i] = 0.0\n",
        "\n",
        "        return preds"
      ],
      "execution_count": null,
      "outputs": []
    },
    {
      "cell_type": "markdown",
      "metadata": {
        "id": "KHG3kTTj3bN4"
      },
      "source": [
        "## Markov Chain (MC) 구현"
      ]
    },
    {
      "cell_type": "code",
      "metadata": {
        "id": "5H4q_vsXRvZ3"
      },
      "source": [
        "class MarkovModel:\n",
        "    def __init__(self):\n",
        "        self.rules = dict()\n",
        "\n",
        "    def fit(self, data):\n",
        "        cur_session = -1\n",
        "        prev_item = -1\n",
        "\n",
        "        for row in data:\n",
        "            session_id, item_id = row[0], row[1]\n",
        "\n",
        "            if session_id != cur_session:\n",
        "                cur_session = session_id\n",
        "            else:                 \n",
        "                if not prev_item in self.rules :\n",
        "                    self.rules[prev_item] = dict()\n",
        "                \n",
        "                if not item_id in self.rules[prev_item]:\n",
        "                    self.rules[prev_item][item_id] = 0\n",
        "                \n",
        "                self.rules[prev_item][item_id] += 1\n",
        "            \n",
        "            prev_item = item_id\n",
        "\n",
        "\n",
        "        # normalization\n",
        "        normal = dict()\n",
        "        cur_session = -1\n",
        "        for i in range(0, len(data)-1):\n",
        "            row = data[i]\n",
        "            session_id, item_id = row[0], row[1]\n",
        "            if session_id != cur_session:\n",
        "                cur_session = session_id\n",
        "            else:\n",
        "                if not item_id in normal:\n",
        "                    normal[item_id] = 0\n",
        "                normal[item_id] += 1\n",
        "\n",
        "        for item_id1 in self.rules.keys():\n",
        "            if item_id1 in normal:\n",
        "                normal_term = normal[item_id1]\n",
        "            else:\n",
        "                continue\n",
        "\n",
        "            if normal_term == 0:\n",
        "                continue\n",
        "\n",
        "            for item_id2 in self.rules[item_id1].keys():\n",
        "                self.rules[item_id1][item_id2] = self.rules[item_id1][item_id2] / normal_term\n",
        "\n",
        "\n",
        "    def predict(self, input_item_id, predict_for_item_ids):\n",
        "        # input_item_id: session의 마지막 item id\n",
        "        # predict_for_item_ids: missing feedback (추천 후보 항목들)\n",
        "\n",
        "        preds = np.zeros(len(predict_for_item_ids))\n",
        "\n",
        "        if input_item_id in self.rules:\n",
        "            for i, predicted_item in enumerate(predict_for_item_ids):\n",
        "                if predicted_item in self.rules[input_item_id]:\n",
        "                    preds[i] = self.rules[input_item_id][predicted_item]\n",
        "                else:\n",
        "                    preds[i] = 0.0\n",
        "\n",
        "        return preds"
      ],
      "execution_count": null,
      "outputs": []
    },
    {
      "cell_type": "markdown",
      "metadata": {
        "id": "eEdMkTFQmaWx"
      },
      "source": [
        "## 알고리즘 별 규칙 구하기"
      ]
    },
    {
      "cell_type": "code",
      "metadata": {
        "id": "o5dAtHiDmI23"
      },
      "source": [
        "# Association rules 구하기\n",
        "AR = AssociationRules()\n",
        "AR.fit(train)\n",
        "\n",
        "# Sequential rules 구하기\n",
        "SR = SequentialRules()\n",
        "SR.fit(train)\n",
        "\n",
        "# Markov chain rules 구하기\n",
        "MC = MarkovModel()\n",
        "MC.fit(train)"
      ],
      "execution_count": null,
      "outputs": []
    },
    {
      "cell_type": "code",
      "metadata": {
        "id": "peeLt_lY_SLz"
      },
      "source": [
        "# train과 test data를 dict형태로 변환\n",
        "train_dict = make_to_dict(train)\n",
        "test_dict = make_to_dict(test)"
      ],
      "execution_count": null,
      "outputs": []
    },
    {
      "cell_type": "markdown",
      "metadata": {
        "id": "MNrhNgB_--a_"
      },
      "source": [
        "## 특정 사용자에 대한 정성 평가"
      ]
    },
    {
      "cell_type": "code",
      "metadata": {
        "colab": {
          "base_uri": "https://localhost:8080/"
        },
        "id": "FdhUb0YQ--bB",
        "outputId": "ccdf918c-830f-40be-b39a-00bc65945f46"
      },
      "source": [
        "user_id = 1500 # 1005, 1500\n",
        "\n",
        "# 사용자가 본 최근 영화들 10개\n",
        "rated_items = train_dict[user_id]\n",
        "for rated_item in rated_items[-10:]:\n",
        "    print(idx2title[rated_item])"
      ],
      "execution_count": null,
      "outputs": [
        {
          "output_type": "stream",
          "text": [
            "델마와 루이스\n",
            "천녀유혼 2 - 인간도\n",
            "보디 히트\n",
            "프레데터\n",
            "프레데터 2\n",
            "네버엔딩 스토리\n",
            "나인 하프 위크\n",
            "복수무정\n",
            "매드 맥스 3\n",
            "다이 하드\n"
          ],
          "name": "stdout"
        }
      ]
    },
    {
      "cell_type": "code",
      "metadata": {
        "colab": {
          "base_uri": "https://localhost:8080/"
        },
        "id": "sKInv-ZZG6XT",
        "outputId": "8540e51e-b16b-4627-a315-1e3cfa375dc7"
      },
      "source": [
        "# 사용자가 본 마지막 영화\n",
        "rated_items = train_dict[user_id]\n",
        "print(\"User id %d이 본 마지막 영화: \"%(user_id), idx2title[ rated_items[-1]])"
      ],
      "execution_count": null,
      "outputs": [
        {
          "output_type": "stream",
          "text": [
            "User id 1500가 본 마지막 영화:  다이 하드\n"
          ],
          "name": "stdout"
        }
      ]
    },
    {
      "cell_type": "code",
      "metadata": {
        "colab": {
          "base_uri": "https://localhost:8080/"
        },
        "id": "fl5RBhm0G7bG",
        "outputId": "24b3e79a-7ccc-45c9-ad93-f03b9984913d"
      },
      "source": [
        "# 각 알고리즘 별 추천 영화 Top-10\n",
        "\n",
        "# 사용자가 이미 본 영화들 제외\n",
        "missing_items = list(set(item_list) - set(train_dict[user_id]))\n",
        "\n",
        "# 사용자의 마지막 영화를 기준으로 각 알고리즘을 이용한 추천 점수 구함\n",
        "predicted_scores = []\n",
        "for algo in [AR, SR, MC]:\n",
        "    predicted_scores.append(algo.predict(train_dict[user_id][-1], missing_items))\n",
        "\n",
        "# 추천 점수로 top-N 항목 추천\n",
        "missing_items = np.asarray(missing_items)\n",
        "\n",
        "print(\"각 알고리즘 별 추천 영화 Top-10\")\n",
        "algo_names = [\"AR\", \"SR\", \"MC\"]\n",
        "for i, predicted_score_algo in enumerate(predicted_scores):\n",
        "    predicted_score_algo = np.asarray(predicted_score_algo)\n",
        "    predicted_score_algo_idx = np.argsort(predicted_score_algo)\n",
        "    predicted_score_algo_idx = predicted_score_algo_idx[::-1]\n",
        "    ranked_items = missing_items[predicted_score_algo_idx]\n",
        "\n",
        "    print(\"==============================\")     \n",
        "    print(algo_names[i] + \" results\")\n",
        "    print(\"==============================\")     \n",
        "    for ranked_item in ranked_items[:10]:\n",
        "        print(idx2title[ranked_item])\n",
        "    print(\"\")"
      ],
      "execution_count": null,
      "outputs": [
        {
          "output_type": "stream",
          "text": [
            "각 알고리즘 별 추천 영화 Top-10\n",
            "==============================\n",
            "AR results\n",
            "==============================\n",
            "터미네이터 2:오리지널\n",
            "다이 하드 2\n",
            "나 홀로 집에\n",
            "터미네이터\n",
            "죽은 시인의 사회\n",
            "대부\n",
            "빽 투 더 퓨쳐\n",
            "시네마 천국\n",
            "영웅본색\n",
            "에이리언 2\n",
            "\n",
            "==============================\n",
            "SR results\n",
            "==============================\n",
            "다이 하드 2\n",
            "터미네이터\n",
            "터미네이터 2:오리지널\n",
            "죽은 시인의 사회\n",
            "이티\n",
            "대부\n",
            "빽 투 더 퓨쳐\n",
            "빠삐용\n",
            "나 홀로 집에\n",
            "록키\n",
            "\n",
            "==============================\n",
            "MC results\n",
            "==============================\n",
            "다이 하드 2\n",
            "빠삐용\n",
            "이티\n",
            "죽은 시인의 사회\n",
            "늑대와 춤을\n",
            "터미네이터 2:오리지널\n",
            "터미네이터\n",
            "록키\n",
            "스카페이스\n",
            "대부\n",
            "\n"
          ],
          "name": "stdout"
        }
      ]
    },
    {
      "cell_type": "code",
      "metadata": {
        "colab": {
          "base_uri": "https://localhost:8080/"
        },
        "id": "Qr63zan3M6YL",
        "outputId": "e3f63982-8564-4ca9-df06-fe774bf06850"
      },
      "source": [
        "# 사용자가 실제로 본 영화들\n",
        "rated_items = test_dict[user_id]\n",
        "for rated_item in rated_items:\n",
        "    print(idx2title[rated_item])"
      ],
      "execution_count": null,
      "outputs": [
        {
          "output_type": "stream",
          "text": [
            "다이 하드 2\n",
            "레이더스\n",
            "인디아나 존스\n",
            "인디아나 존스 - 최후의 성전\n",
            "우먼 인 레드\n",
            "누가 로져 래빗을 모함했나\n",
            "레드 소냐\n"
          ],
          "name": "stdout"
        }
      ]
    },
    {
      "cell_type": "markdown",
      "metadata": {
        "id": "IoThSwjtq-KK"
      },
      "source": [
        "## 특정 사용자에 대한 정량 평가"
      ]
    },
    {
      "cell_type": "code",
      "metadata": {
        "colab": {
          "base_uri": "https://localhost:8080/"
        },
        "id": "crVKcMp0c3JD",
        "outputId": "f38e1cc4-5c9b-4f8a-be56-1d429171eb68"
      },
      "source": [
        "user_id = 1500\n",
        "\n",
        "# 사용자가 이미 본 영화들 제외\n",
        "missing_items = list(set(item_list) - set(train_dict[user_id]))\n",
        "\n",
        "# 사용자의 마지막 영화를 각 알고리즘으로 항목 추천\n",
        "predicted_scores = []\n",
        "for algo in [AR, SR, MC]:\n",
        "    predicted_scores.append(algo.predict(train_dict[user_id][-1], missing_items))\n",
        "\n",
        "# 각 알고리즘의 예측값으로 내림차순 정렬된 항목들의 list 구함\n",
        "missing_items = np.asarray(missing_items)\n",
        "\n",
        "sorted_missing_items = []\n",
        "for predicted_score_algo in predicted_scores:\n",
        "    predicted_score_algo = np.asarray(predicted_score_algo)\n",
        "    predicted_score_algo_idx = np.argsort(predicted_score_algo)\n",
        "    predicted_score_algo_idx = predicted_score_algo_idx[::-1]\n",
        "    sorted_missing_items.append(missing_items[predicted_score_algo_idx])\n",
        "\n",
        "\n",
        "top_k = 100\n",
        "test_items = test_dict[user_id]\n",
        "algo_names = [\"AR\", \"SR\", \"MC\"]\n",
        "for i, sorted_missing_algo in enumerate(sorted_missing_items):\n",
        "    print(algo_names[i] + \" results\" )\n",
        "    prec, recall, ndcg = compute_metrics(sorted_missing_algo, test_items, top_k)\n",
        "    print(f\"Precision@{top_k}: {prec:.3f}\")\n",
        "    print(f\"Recall@{top_k}: {recall:.3f}\")\n",
        "    print(f\"NDCG@{top_k}: {ndcg:.3f}\")\n",
        "    print(\"\")\n"
      ],
      "execution_count": null,
      "outputs": [
        {
          "output_type": "stream",
          "text": [
            "AR results\n",
            "Precision@100: 0.040\n",
            "Recall@100: 0.571\n",
            "NDCG@100: 0.361\n",
            "\n",
            "SR results\n",
            "Precision@100: 0.040\n",
            "Recall@100: 0.571\n",
            "NDCG@100: 0.451\n",
            "\n",
            "MC results\n",
            "Precision@100: 0.030\n",
            "Recall@100: 0.429\n",
            "NDCG@100: 0.390\n",
            "\n"
          ],
          "name": "stdout"
        }
      ]
    },
    {
      "cell_type": "markdown",
      "metadata": {
        "id": "cB--xfzfjb-i"
      },
      "source": [
        "## 전체 사용자에 대한 정량 평가"
      ]
    },
    {
      "cell_type": "code",
      "metadata": {
        "id": "kdOJanjfC5is"
      },
      "source": [
        "# 전체 user에 대한 평가\n",
        "top_k = 50\n",
        "algo_names = [\"AR\", \"SR\", \"MC\"]\n",
        "\n",
        "prec_list = {}\n",
        "recall_list = {}\n",
        "ndcg_list = {}\n",
        "for algo in algo_names:\n",
        "    prec_list[algo] = []\n",
        "    recall_list[algo] = []\n",
        "    ndcg_list[algo] = []\n",
        "\n",
        "for user_id in user_list:\n",
        "    missing_items = list(set(item_list) - set(train_dict[user_id]))\n",
        "\n",
        "    predicted_scores = []\n",
        "    for algo in [AR, SR, MC]:\n",
        "        predicted_scores.append(algo.predict(train_dict[user_id][-1], missing_items))\n",
        "\n",
        "    missing_items = np.asarray(missing_items)\n",
        "\n",
        "    sorted_missing_items = []\n",
        "    for predicted_score_algo in predicted_scores:\n",
        "        predicted_score_algo = np.asarray(predicted_score_algo)\n",
        "        predicted_score_algo_idx = np.argsort(predicted_score_algo)\n",
        "        predicted_score_algo_idx = predicted_score_algo_idx[::-1]\n",
        "        sorted_missing_items.append(missing_items[predicted_score_algo_idx])\n",
        "\n",
        "    test_items = test_dict[user_id]\n",
        "\n",
        "    for i, sorted_missing_algo in enumerate(sorted_missing_items):\n",
        "        prec, recall, ndcg = compute_metrics(sorted_missing_algo, test_items, top_k)\n",
        "        prec_list[algo_names[i]].append(prec)\n",
        "        recall_list[algo_names[i]].append(recall)\n",
        "        ndcg_list[algo_names[i]].append(ndcg)\n"
      ],
      "execution_count": null,
      "outputs": []
    },
    {
      "cell_type": "code",
      "metadata": {
        "colab": {
          "base_uri": "https://localhost:8080/"
        },
        "id": "3KVfwtYyDN59",
        "outputId": "97e55591-df39-49e9-bbff-5b1c2e1f44c3"
      },
      "source": [
        "for algo in algo_names:\n",
        "    print(algo + \" results\" )\n",
        "    print(f\"Precision@{top_k}: {np.mean(prec_list[algo]):.3f}\")\n",
        "    print(f\"Recall@{top_k}: {np.mean(recall_list[algo]):.3f}\")\n",
        "    print(f\"NDCG@{top_k}: {np.mean(ndcg_list[algo]):.3f}\")\n",
        "    print(\"\")"
      ],
      "execution_count": null,
      "outputs": [
        {
          "output_type": "stream",
          "text": [
            "AR results\n",
            "Precision@100: 0.056\n",
            "Recall@100: 0.553\n",
            "NDCG@100: 0.326\n",
            "\n",
            "SR results\n",
            "Precision@100: 0.051\n",
            "Recall@100: 0.515\n",
            "NDCG@100: 0.297\n",
            "\n",
            "MC results\n",
            "Precision@100: 0.040\n",
            "Recall@100: 0.421\n",
            "NDCG@100: 0.251\n",
            "\n"
          ],
          "name": "stdout"
        }
      ]
    },
    {
      "cell_type": "markdown",
      "metadata": {
        "id": "Ks6v0MRXN9lD"
      },
      "source": [
        "# Appendix"
      ]
    },
    {
      "cell_type": "markdown",
      "metadata": {
        "id": "zPBIG8vGpls8"
      },
      "source": [
        "## Pandas Basic Tutorial"
      ]
    },
    {
      "cell_type": "markdown",
      "metadata": {
        "id": "_pbtFlhZYcj-"
      },
      "source": [
        "Pandas Dataframe - 2차원 구조의 Data를 쉽게 저장/확인/수정하기 위한 방법으로 사용하는 data format."
      ]
    },
    {
      "cell_type": "markdown",
      "metadata": {
        "id": "Ee3EQlHHOCEK"
      },
      "source": [
        "### Dataframe 생성"
      ]
    },
    {
      "cell_type": "code",
      "metadata": {
        "colab": {
          "base_uri": "https://localhost:8080/",
          "height": 106
        },
        "id": "t7r6uSSJw7EP",
        "outputId": "dc01353f-8e2b-4f42-e90a-fe49d5f24249"
      },
      "source": [
        "# pandas DataFrame 생성 기본 명령\n",
        "# pd.DataFrame(data=None, index=None, columns=None, dtype=None, copy=False)\n",
        "\n",
        "import pandas as pd\n",
        "\n",
        "df = pd.DataFrame([[1,2,3,4],[5,6,7,8]])\n",
        "df"
      ],
      "execution_count": null,
      "outputs": [
        {
          "output_type": "execute_result",
          "data": {
            "text/html": [
              "<div>\n",
              "<style scoped>\n",
              "    .dataframe tbody tr th:only-of-type {\n",
              "        vertical-align: middle;\n",
              "    }\n",
              "\n",
              "    .dataframe tbody tr th {\n",
              "        vertical-align: top;\n",
              "    }\n",
              "\n",
              "    .dataframe thead th {\n",
              "        text-align: right;\n",
              "    }\n",
              "</style>\n",
              "<table border=\"1\" class=\"dataframe\">\n",
              "  <thead>\n",
              "    <tr style=\"text-align: right;\">\n",
              "      <th></th>\n",
              "      <th>0</th>\n",
              "      <th>1</th>\n",
              "      <th>2</th>\n",
              "      <th>3</th>\n",
              "    </tr>\n",
              "  </thead>\n",
              "  <tbody>\n",
              "    <tr>\n",
              "      <th>0</th>\n",
              "      <td>1</td>\n",
              "      <td>2</td>\n",
              "      <td>3</td>\n",
              "      <td>4</td>\n",
              "    </tr>\n",
              "    <tr>\n",
              "      <th>1</th>\n",
              "      <td>5</td>\n",
              "      <td>6</td>\n",
              "      <td>7</td>\n",
              "      <td>8</td>\n",
              "    </tr>\n",
              "  </tbody>\n",
              "</table>\n",
              "</div>"
            ],
            "text/plain": [
              "   0  1  2  3\n",
              "0  1  2  3  4\n",
              "1  5  6  7  8"
            ]
          },
          "metadata": {
            "tags": []
          },
          "execution_count": 153
        }
      ]
    },
    {
      "cell_type": "code",
      "metadata": {
        "colab": {
          "base_uri": "https://localhost:8080/",
          "height": 166
        },
        "id": "ffINAeu9OBzi",
        "outputId": "ab4d5797-d36e-4ae4-8e3f-c88e5360d035"
      },
      "source": [
        "# Dictionary 형태의 data로 생성.\n",
        "dict_data = {'col0': [1,2,3,4],\n",
        "             'col1': [5,6,7,8],\n",
        "             'col2': [9,10,11,12],}\n",
        "row = ['row0','row1','row2', 'row3']\n",
        "\n",
        "data = pd.DataFrame(data=dict_data, index=row)\n",
        "data"
      ],
      "execution_count": null,
      "outputs": [
        {
          "output_type": "execute_result",
          "data": {
            "text/html": [
              "<div>\n",
              "<style scoped>\n",
              "    .dataframe tbody tr th:only-of-type {\n",
              "        vertical-align: middle;\n",
              "    }\n",
              "\n",
              "    .dataframe tbody tr th {\n",
              "        vertical-align: top;\n",
              "    }\n",
              "\n",
              "    .dataframe thead th {\n",
              "        text-align: right;\n",
              "    }\n",
              "</style>\n",
              "<table border=\"1\" class=\"dataframe\">\n",
              "  <thead>\n",
              "    <tr style=\"text-align: right;\">\n",
              "      <th></th>\n",
              "      <th>col0</th>\n",
              "      <th>col1</th>\n",
              "      <th>col2</th>\n",
              "    </tr>\n",
              "  </thead>\n",
              "  <tbody>\n",
              "    <tr>\n",
              "      <th>row0</th>\n",
              "      <td>1</td>\n",
              "      <td>5</td>\n",
              "      <td>9</td>\n",
              "    </tr>\n",
              "    <tr>\n",
              "      <th>row1</th>\n",
              "      <td>2</td>\n",
              "      <td>6</td>\n",
              "      <td>10</td>\n",
              "    </tr>\n",
              "    <tr>\n",
              "      <th>row2</th>\n",
              "      <td>3</td>\n",
              "      <td>7</td>\n",
              "      <td>11</td>\n",
              "    </tr>\n",
              "    <tr>\n",
              "      <th>row3</th>\n",
              "      <td>4</td>\n",
              "      <td>8</td>\n",
              "      <td>12</td>\n",
              "    </tr>\n",
              "  </tbody>\n",
              "</table>\n",
              "</div>"
            ],
            "text/plain": [
              "      col0  col1  col2\n",
              "row0     1     5     9\n",
              "row1     2     6    10\n",
              "row2     3     7    11\n",
              "row3     4     8    12"
            ]
          },
          "metadata": {
            "tags": []
          },
          "execution_count": 154
        }
      ]
    },
    {
      "cell_type": "code",
      "metadata": {
        "colab": {
          "base_uri": "https://localhost:8080/",
          "height": 136
        },
        "id": "PsTVnv-kOBmt",
        "outputId": "8385b4f3-de16-437e-dfea-cbf1a1c2f029"
      },
      "source": [
        "# Array 형태의 data로 생성.\n",
        "array_data = [[1,2,3,4],\n",
        "              [5,6,7,8],\n",
        "              [9,10,11,12]]\n",
        "row = ['row0','row1','row2']\n",
        "column = ['col0', 'col1', 'col2', 'col3']\n",
        "\n",
        "data = pd.DataFrame(data=array_data, index=row, columns=column)\n",
        "data"
      ],
      "execution_count": null,
      "outputs": [
        {
          "output_type": "execute_result",
          "data": {
            "text/html": [
              "<div>\n",
              "<style scoped>\n",
              "    .dataframe tbody tr th:only-of-type {\n",
              "        vertical-align: middle;\n",
              "    }\n",
              "\n",
              "    .dataframe tbody tr th {\n",
              "        vertical-align: top;\n",
              "    }\n",
              "\n",
              "    .dataframe thead th {\n",
              "        text-align: right;\n",
              "    }\n",
              "</style>\n",
              "<table border=\"1\" class=\"dataframe\">\n",
              "  <thead>\n",
              "    <tr style=\"text-align: right;\">\n",
              "      <th></th>\n",
              "      <th>col0</th>\n",
              "      <th>col1</th>\n",
              "      <th>col2</th>\n",
              "      <th>col3</th>\n",
              "    </tr>\n",
              "  </thead>\n",
              "  <tbody>\n",
              "    <tr>\n",
              "      <th>row0</th>\n",
              "      <td>1</td>\n",
              "      <td>2</td>\n",
              "      <td>3</td>\n",
              "      <td>4</td>\n",
              "    </tr>\n",
              "    <tr>\n",
              "      <th>row1</th>\n",
              "      <td>5</td>\n",
              "      <td>6</td>\n",
              "      <td>7</td>\n",
              "      <td>8</td>\n",
              "    </tr>\n",
              "    <tr>\n",
              "      <th>row2</th>\n",
              "      <td>9</td>\n",
              "      <td>10</td>\n",
              "      <td>11</td>\n",
              "      <td>12</td>\n",
              "    </tr>\n",
              "  </tbody>\n",
              "</table>\n",
              "</div>"
            ],
            "text/plain": [
              "      col0  col1  col2  col3\n",
              "row0     1     2     3     4\n",
              "row1     5     6     7     8\n",
              "row2     9    10    11    12"
            ]
          },
          "metadata": {
            "tags": []
          },
          "execution_count": 155
        }
      ]
    },
    {
      "cell_type": "markdown",
      "metadata": {
        "id": "wRpRkP5bOIs4"
      },
      "source": [
        "### Dataframe 내의 data 접근/수정"
      ]
    },
    {
      "cell_type": "code",
      "metadata": {
        "colab": {
          "base_uri": "https://localhost:8080/"
        },
        "id": "aPO-ZimeBVqI",
        "outputId": "b23d6558-cd69-4ad2-b7a0-c53b5fdf4664"
      },
      "source": [
        "# column으로 바로 접근\n",
        "data['col0']"
      ],
      "execution_count": null,
      "outputs": [
        {
          "output_type": "execute_result",
          "data": {
            "text/plain": [
              "row0    1\n",
              "row1    5\n",
              "row2    9\n",
              "Name: col0, dtype: int64"
            ]
          },
          "metadata": {
            "tags": []
          },
          "execution_count": 156
        }
      ]
    },
    {
      "cell_type": "code",
      "metadata": {
        "colab": {
          "base_uri": "https://localhost:8080/"
        },
        "id": "VzPS7HMBOBjR",
        "outputId": "6994f0df-a506-40f3-c02e-bd2012826cfb"
      },
      "source": [
        "# 특정 열에 접근\n",
        "data.loc['row0',:]"
      ],
      "execution_count": null,
      "outputs": [
        {
          "output_type": "execute_result",
          "data": {
            "text/plain": [
              "col0    1\n",
              "col1    2\n",
              "col2    3\n",
              "col3    4\n",
              "Name: row0, dtype: int64"
            ]
          },
          "metadata": {
            "tags": []
          },
          "execution_count": 157
        }
      ]
    },
    {
      "cell_type": "code",
      "metadata": {
        "colab": {
          "base_uri": "https://localhost:8080/"
        },
        "id": "psCDsD34gW7y",
        "outputId": "03569c8b-e72e-4300-ff65-32df6209669e"
      },
      "source": [
        "# 특정 행에 접근\n",
        "data.loc[:,'col0']"
      ],
      "execution_count": null,
      "outputs": [
        {
          "output_type": "execute_result",
          "data": {
            "text/plain": [
              "row0    1\n",
              "row1    5\n",
              "row2    9\n",
              "Name: col0, dtype: int64"
            ]
          },
          "metadata": {
            "tags": []
          },
          "execution_count": 158
        }
      ]
    },
    {
      "cell_type": "code",
      "metadata": {
        "colab": {
          "base_uri": "https://localhost:8080/"
        },
        "id": "qOXK_MLzgW6Q",
        "outputId": "36214e85-c98e-4f47-895c-77e3c87edeac"
      },
      "source": [
        "# 특정 data에 접근\n",
        "data.loc['row0','col0']"
      ],
      "execution_count": null,
      "outputs": [
        {
          "output_type": "execute_result",
          "data": {
            "text/plain": [
              "1"
            ]
          },
          "metadata": {
            "tags": []
          },
          "execution_count": 159
        }
      ]
    },
    {
      "cell_type": "code",
      "metadata": {
        "colab": {
          "base_uri": "https://localhost:8080/",
          "height": 106
        },
        "id": "dHYFI-esmQer",
        "outputId": "909c68ea-c57d-4983-ff12-3001d7def8d6"
      },
      "source": [
        "# 조건문을 통한 접근\n",
        "data.loc[data['col1'].isin([1,2,3,4,5,6])]  # data['col1'] = [2, 6, 10]"
      ],
      "execution_count": null,
      "outputs": [
        {
          "output_type": "execute_result",
          "data": {
            "text/html": [
              "<div>\n",
              "<style scoped>\n",
              "    .dataframe tbody tr th:only-of-type {\n",
              "        vertical-align: middle;\n",
              "    }\n",
              "\n",
              "    .dataframe tbody tr th {\n",
              "        vertical-align: top;\n",
              "    }\n",
              "\n",
              "    .dataframe thead th {\n",
              "        text-align: right;\n",
              "    }\n",
              "</style>\n",
              "<table border=\"1\" class=\"dataframe\">\n",
              "  <thead>\n",
              "    <tr style=\"text-align: right;\">\n",
              "      <th></th>\n",
              "      <th>col0</th>\n",
              "      <th>col1</th>\n",
              "      <th>col2</th>\n",
              "      <th>col3</th>\n",
              "    </tr>\n",
              "  </thead>\n",
              "  <tbody>\n",
              "    <tr>\n",
              "      <th>row0</th>\n",
              "      <td>1</td>\n",
              "      <td>2</td>\n",
              "      <td>3</td>\n",
              "      <td>4</td>\n",
              "    </tr>\n",
              "    <tr>\n",
              "      <th>row1</th>\n",
              "      <td>5</td>\n",
              "      <td>6</td>\n",
              "      <td>7</td>\n",
              "      <td>8</td>\n",
              "    </tr>\n",
              "  </tbody>\n",
              "</table>\n",
              "</div>"
            ],
            "text/plain": [
              "      col0  col1  col2  col3\n",
              "row0     1     2     3     4\n",
              "row1     5     6     7     8"
            ]
          },
          "metadata": {
            "tags": []
          },
          "execution_count": 160
        }
      ]
    },
    {
      "cell_type": "code",
      "metadata": {
        "colab": {
          "base_uri": "https://localhost:8080/",
          "height": 136
        },
        "id": "ovDlOCIXijGW",
        "outputId": "92d1480d-8e0a-42fb-e1d5-8b8ed7738901"
      },
      "source": [
        "# 특정 data 수정\n",
        "data.loc['row0','col0'] = 0\n",
        "data"
      ],
      "execution_count": null,
      "outputs": [
        {
          "output_type": "execute_result",
          "data": {
            "text/html": [
              "<div>\n",
              "<style scoped>\n",
              "    .dataframe tbody tr th:only-of-type {\n",
              "        vertical-align: middle;\n",
              "    }\n",
              "\n",
              "    .dataframe tbody tr th {\n",
              "        vertical-align: top;\n",
              "    }\n",
              "\n",
              "    .dataframe thead th {\n",
              "        text-align: right;\n",
              "    }\n",
              "</style>\n",
              "<table border=\"1\" class=\"dataframe\">\n",
              "  <thead>\n",
              "    <tr style=\"text-align: right;\">\n",
              "      <th></th>\n",
              "      <th>col0</th>\n",
              "      <th>col1</th>\n",
              "      <th>col2</th>\n",
              "      <th>col3</th>\n",
              "    </tr>\n",
              "  </thead>\n",
              "  <tbody>\n",
              "    <tr>\n",
              "      <th>row0</th>\n",
              "      <td>0</td>\n",
              "      <td>2</td>\n",
              "      <td>3</td>\n",
              "      <td>4</td>\n",
              "    </tr>\n",
              "    <tr>\n",
              "      <th>row1</th>\n",
              "      <td>5</td>\n",
              "      <td>6</td>\n",
              "      <td>7</td>\n",
              "      <td>8</td>\n",
              "    </tr>\n",
              "    <tr>\n",
              "      <th>row2</th>\n",
              "      <td>9</td>\n",
              "      <td>10</td>\n",
              "      <td>11</td>\n",
              "      <td>12</td>\n",
              "    </tr>\n",
              "  </tbody>\n",
              "</table>\n",
              "</div>"
            ],
            "text/plain": [
              "      col0  col1  col2  col3\n",
              "row0     0     2     3     4\n",
              "row1     5     6     7     8\n",
              "row2     9    10    11    12"
            ]
          },
          "metadata": {
            "tags": []
          },
          "execution_count": 161
        }
      ]
    },
    {
      "cell_type": "markdown",
      "metadata": {
        "id": "WFCLFZg_pzbZ"
      },
      "source": [
        "## Word Representation"
      ]
    },
    {
      "cell_type": "markdown",
      "metadata": {
        "id": "MRDAVnZqzXk6"
      },
      "source": [
        "### Dataset: 네이버 뉴스"
      ]
    },
    {
      "cell_type": "code",
      "metadata": {
        "colab": {
          "base_uri": "https://localhost:8080/"
        },
        "id": "t2QrZM-QgQzy",
        "outputId": "d8c7a6fc-4204-4e03-dc7c-29525eb6fe46"
      },
      "source": [
        "from google_drive_downloader import GoogleDriveDownloader as gdd\n",
        "# https://drive.google.com/file/d/1kpFLOEL3yYEPeaoDSYIfkRM0uuRvOcb5/view?usp=sharing\n",
        "gdd.download_file_from_google_drive(\n",
        "    file_id='1kpFLOEL3yYEPeaoDSYIfkRM0uuRvOcb5',\n",
        "    dest_path='./naver_news_dataset.csv',\n",
        ")\n",
        "\n",
        "print(\"데이터 다운로드 완료!\")"
      ],
      "execution_count": null,
      "outputs": [
        {
          "output_type": "stream",
          "text": [
            "Downloading 1kpFLOEL3yYEPeaoDSYIfkRM0uuRvOcb5 into ./naver_news_dataset.csv... Done.\n",
            "데이터 다운로드 완료!\n"
          ],
          "name": "stdout"
        }
      ]
    },
    {
      "cell_type": "code",
      "metadata": {
        "colab": {
          "base_uri": "https://localhost:8080/",
          "height": 297
        },
        "id": "BlINFr_icyy3",
        "outputId": "2aa917da-d4f7-460d-be98-c9842633e6e4"
      },
      "source": [
        "# 2021-06-15 13시 04분에 수집한 데이터셋\n",
        "dataset = pd.read_csv('./naver_news_dataset.csv')\n",
        "dataset = dataset.sample(frac=1, random_state=2021).reset_index(drop=True)\n",
        "dataset_backup = dataset\n",
        "\n",
        "print('# of News data:',len(dataset))\n",
        "dataset.head()"
      ],
      "execution_count": null,
      "outputs": [
        {
          "output_type": "stream",
          "text": [
            "# of News data: 2000\n"
          ],
          "name": "stdout"
        },
        {
          "output_type": "execute_result",
          "data": {
            "text/html": [
              "<div>\n",
              "<style scoped>\n",
              "    .dataframe tbody tr th:only-of-type {\n",
              "        vertical-align: middle;\n",
              "    }\n",
              "\n",
              "    .dataframe tbody tr th {\n",
              "        vertical-align: top;\n",
              "    }\n",
              "\n",
              "    .dataframe thead th {\n",
              "        text-align: right;\n",
              "    }\n",
              "</style>\n",
              "<table border=\"1\" class=\"dataframe\">\n",
              "  <thead>\n",
              "    <tr style=\"text-align: right;\">\n",
              "      <th></th>\n",
              "      <th>title</th>\n",
              "      <th>press</th>\n",
              "      <th>query</th>\n",
              "      <th>date</th>\n",
              "      <th>url</th>\n",
              "    </tr>\n",
              "  </thead>\n",
              "  <tbody>\n",
              "    <tr>\n",
              "      <th>0</th>\n",
              "      <td>삼성·모더나-SK·노바백스 협력…한미 '백신 동맹' 구체화</td>\n",
              "      <td>노컷뉴스</td>\n",
              "      <td>노바백스</td>\n",
              "      <td>2021.05.23.</td>\n",
              "      <td>https://www.nocutnews.co.kr/news/5557072</td>\n",
              "    </tr>\n",
              "    <tr>\n",
              "      <th>1</th>\n",
              "      <td>대구서 얀센 접종 30대 남성 사흘 만에 '의문의 사망'</td>\n",
              "      <td>MBN</td>\n",
              "      <td>얀센</td>\n",
              "      <td>1일 전</td>\n",
              "      <td>http://www.mbn.co.kr/pages/news/newsView.php?n...</td>\n",
              "    </tr>\n",
              "    <tr>\n",
              "      <th>2</th>\n",
              "      <td>코로나19 어제 399명 신규확진… 77일만에 400명 아래(종합)</td>\n",
              "      <td>조선비즈</td>\n",
              "      <td>코로나</td>\n",
              "      <td>1일 전</td>\n",
              "      <td>https://biz.chosun.com/policy/politics/2021/06...</td>\n",
              "    </tr>\n",
              "    <tr>\n",
              "      <th>3</th>\n",
              "      <td>진안군, 코로나 백신 접종자에 체육시설 이용료 최대 80％ 할인</td>\n",
              "      <td>연합뉴스</td>\n",
              "      <td>코로나</td>\n",
              "      <td>1시간 전</td>\n",
              "      <td>http://yna.kr/AKR20210615081700055?did=1195m</td>\n",
              "    </tr>\n",
              "    <tr>\n",
              "      <th>4</th>\n",
              "      <td>2천만명분 도입 노바백스 백신 곧 국내 허가 신청할 듯(종합)</td>\n",
              "      <td>연합뉴스</td>\n",
              "      <td>노바백스</td>\n",
              "      <td>2021.04.26.</td>\n",
              "      <td>http://yna.kr/AKR20210426068351017?did=1195m</td>\n",
              "    </tr>\n",
              "  </tbody>\n",
              "</table>\n",
              "</div>"
            ],
            "text/plain": [
              "                                   title  ...                                                url\n",
              "0       삼성·모더나-SK·노바백스 협력…한미 '백신 동맹' 구체화  ...           https://www.nocutnews.co.kr/news/5557072\n",
              "1        대구서 얀센 접종 30대 남성 사흘 만에 '의문의 사망'  ...  http://www.mbn.co.kr/pages/news/newsView.php?n...\n",
              "2  코로나19 어제 399명 신규확진… 77일만에 400명 아래(종합)  ...  https://biz.chosun.com/policy/politics/2021/06...\n",
              "3    진안군, 코로나 백신 접종자에 체육시설 이용료 최대 80％ 할인  ...       http://yna.kr/AKR20210615081700055?did=1195m\n",
              "4     2천만명분 도입 노바백스 백신 곧 국내 허가 신청할 듯(종합)  ...       http://yna.kr/AKR20210426068351017?did=1195m\n",
              "\n",
              "[5 rows x 5 columns]"
            ]
          },
          "metadata": {
            "tags": []
          },
          "execution_count": 163
        }
      ]
    },
    {
      "cell_type": "markdown",
      "metadata": {
        "id": "CK3jwyW-pzbp"
      },
      "source": [
        "### BoW (Bag of Words)\n",
        "document 1개에 대해서만 BoW 실행"
      ]
    },
    {
      "cell_type": "code",
      "metadata": {
        "id": "pXP7cZKPpzbp"
      },
      "source": [
        "document = ['사람이 온다는 건 실은 어마어마한 일이다.']"
      ],
      "execution_count": null,
      "outputs": []
    },
    {
      "cell_type": "code",
      "metadata": {
        "id": "SNysWsb7pzbq"
      },
      "source": [
        "# 뉴스 데이터셋\n",
        "# document = dataset['title'][:1]\n",
        "\n",
        "# sklearn 사용하여 BoW\n",
        "from sklearn.feature_extraction.text import CountVectorizer\n",
        "vect = CountVectorizer()\n",
        "bow = vect.fit_transform(document).toarray()\n",
        "word_column = vect.get_feature_names()"
      ],
      "execution_count": null,
      "outputs": []
    },
    {
      "cell_type": "code",
      "metadata": {
        "colab": {
          "base_uri": "https://localhost:8080/",
          "height": 80
        },
        "id": "VHzPEU74pzbq",
        "outputId": "142807d7-b828-4bae-eaba-7446f8abe51a"
      },
      "source": [
        "pd.DataFrame(data=bow, columns=word_column)"
      ],
      "execution_count": null,
      "outputs": [
        {
          "output_type": "execute_result",
          "data": {
            "text/html": [
              "<div>\n",
              "<style scoped>\n",
              "    .dataframe tbody tr th:only-of-type {\n",
              "        vertical-align: middle;\n",
              "    }\n",
              "\n",
              "    .dataframe tbody tr th {\n",
              "        vertical-align: top;\n",
              "    }\n",
              "\n",
              "    .dataframe thead th {\n",
              "        text-align: right;\n",
              "    }\n",
              "</style>\n",
              "<table border=\"1\" class=\"dataframe\">\n",
              "  <thead>\n",
              "    <tr style=\"text-align: right;\">\n",
              "      <th></th>\n",
              "      <th>사람이</th>\n",
              "      <th>실은</th>\n",
              "      <th>어마어마한</th>\n",
              "      <th>온다는</th>\n",
              "      <th>일이다</th>\n",
              "    </tr>\n",
              "  </thead>\n",
              "  <tbody>\n",
              "    <tr>\n",
              "      <th>0</th>\n",
              "      <td>1</td>\n",
              "      <td>1</td>\n",
              "      <td>1</td>\n",
              "      <td>1</td>\n",
              "      <td>1</td>\n",
              "    </tr>\n",
              "  </tbody>\n",
              "</table>\n",
              "</div>"
            ],
            "text/plain": [
              "   사람이  실은  어마어마한  온다는  일이다\n",
              "0    1   1      1    1    1"
            ]
          },
          "metadata": {
            "tags": []
          },
          "execution_count": 20
        }
      ]
    },
    {
      "cell_type": "markdown",
      "metadata": {
        "id": "uenBdMlxpzbq"
      },
      "source": [
        "### DTM (Document-Term Matrix)\n",
        "각 document들의 BoW를 하나의 행렬로 나타낸 것"
      ]
    },
    {
      "cell_type": "code",
      "metadata": {
        "id": "VXnwi4zXpzbr"
      },
      "source": [
        "document = ['사람이 온다는 건 실은 어마어마한 일이다.', '그는 그의 과거와 현재와 그리고 그의 미래와 함께 오기 때문이다.', '한 사람의 일생이 오기 때문이다.']"
      ],
      "execution_count": null,
      "outputs": []
    },
    {
      "cell_type": "code",
      "metadata": {
        "id": "i3kwEzeEpzbr"
      },
      "source": [
        "# 뉴스 데이터셋\n",
        "# document = dataset['title'][:5]\n",
        "\n",
        "vect = CountVectorizer()\n",
        "BoW = vect.fit_transform(document).toarray()\n",
        "word_column = vect.get_feature_names()"
      ],
      "execution_count": null,
      "outputs": []
    },
    {
      "cell_type": "code",
      "metadata": {
        "colab": {
          "base_uri": "https://localhost:8080/",
          "height": 158
        },
        "id": "9DhvLTyXpzbr",
        "outputId": "bfe770aa-cbbb-4bcd-db4b-43d97738640c"
      },
      "source": [
        "# DTM\n",
        "pd.DataFrame(data=BoW, columns=word_column)"
      ],
      "execution_count": null,
      "outputs": [
        {
          "output_type": "execute_result",
          "data": {
            "text/html": [
              "<div>\n",
              "<style scoped>\n",
              "    .dataframe tbody tr th:only-of-type {\n",
              "        vertical-align: middle;\n",
              "    }\n",
              "\n",
              "    .dataframe tbody tr th {\n",
              "        vertical-align: top;\n",
              "    }\n",
              "\n",
              "    .dataframe thead th {\n",
              "        text-align: right;\n",
              "    }\n",
              "</style>\n",
              "<table border=\"1\" class=\"dataframe\">\n",
              "  <thead>\n",
              "    <tr style=\"text-align: right;\">\n",
              "      <th></th>\n",
              "      <th>과거와</th>\n",
              "      <th>그는</th>\n",
              "      <th>그리고</th>\n",
              "      <th>그의</th>\n",
              "      <th>때문이다</th>\n",
              "      <th>미래와</th>\n",
              "      <th>사람의</th>\n",
              "      <th>사람이</th>\n",
              "      <th>실은</th>\n",
              "      <th>어마어마한</th>\n",
              "      <th>오기</th>\n",
              "      <th>온다는</th>\n",
              "      <th>일생이</th>\n",
              "      <th>일이다</th>\n",
              "      <th>함께</th>\n",
              "      <th>현재와</th>\n",
              "    </tr>\n",
              "  </thead>\n",
              "  <tbody>\n",
              "    <tr>\n",
              "      <th>0</th>\n",
              "      <td>0</td>\n",
              "      <td>0</td>\n",
              "      <td>0</td>\n",
              "      <td>0</td>\n",
              "      <td>0</td>\n",
              "      <td>0</td>\n",
              "      <td>0</td>\n",
              "      <td>1</td>\n",
              "      <td>1</td>\n",
              "      <td>1</td>\n",
              "      <td>0</td>\n",
              "      <td>1</td>\n",
              "      <td>0</td>\n",
              "      <td>1</td>\n",
              "      <td>0</td>\n",
              "      <td>0</td>\n",
              "    </tr>\n",
              "    <tr>\n",
              "      <th>1</th>\n",
              "      <td>1</td>\n",
              "      <td>1</td>\n",
              "      <td>1</td>\n",
              "      <td>2</td>\n",
              "      <td>1</td>\n",
              "      <td>1</td>\n",
              "      <td>0</td>\n",
              "      <td>0</td>\n",
              "      <td>0</td>\n",
              "      <td>0</td>\n",
              "      <td>1</td>\n",
              "      <td>0</td>\n",
              "      <td>0</td>\n",
              "      <td>0</td>\n",
              "      <td>1</td>\n",
              "      <td>1</td>\n",
              "    </tr>\n",
              "    <tr>\n",
              "      <th>2</th>\n",
              "      <td>0</td>\n",
              "      <td>0</td>\n",
              "      <td>0</td>\n",
              "      <td>0</td>\n",
              "      <td>1</td>\n",
              "      <td>0</td>\n",
              "      <td>1</td>\n",
              "      <td>0</td>\n",
              "      <td>0</td>\n",
              "      <td>0</td>\n",
              "      <td>1</td>\n",
              "      <td>0</td>\n",
              "      <td>1</td>\n",
              "      <td>0</td>\n",
              "      <td>0</td>\n",
              "      <td>0</td>\n",
              "    </tr>\n",
              "  </tbody>\n",
              "</table>\n",
              "</div>"
            ],
            "text/plain": [
              "   과거와  그는  그리고  그의  때문이다  미래와  사람의  사람이  실은  어마어마한  오기  온다는  일생이  일이다  함께  현재와\n",
              "0    0   0    0   0     0    0    0    1   1      1   0    1    0    1   0    0\n",
              "1    1   1    1   2     1    1    0    0   0      0   1    0    0    0   1    1\n",
              "2    0   0    0   0     1    0    1    0   0      0   1    0    1    0   0    0"
            ]
          },
          "metadata": {
            "tags": []
          },
          "execution_count": 12
        }
      ]
    },
    {
      "cell_type": "markdown",
      "metadata": {
        "id": "wNuzkkdopzbr"
      },
      "source": [
        "### TF-IDF (Term Frequency-Inverse Document Frequency)"
      ]
    },
    {
      "cell_type": "markdown",
      "metadata": {
        "id": "s4ckJeoWpzbs"
      },
      "source": [
        "BoW처럼 단어의 출현 빈도(Term Frequency)만 고려하는 것이 아닌, Inverse Document Frequency도 고려하여 각 단어의 중요 정도를 가중치로 주는 방법."
      ]
    },
    {
      "cell_type": "code",
      "metadata": {
        "id": "d959AphDpzbs"
      },
      "source": [
        "document = ['사람이 온다는 건 실은 어마어마한 일이다.', '그는 그의 과거와 현재와 그리고 그의 미래와 함께 오기 때문이다.', '한 사람의 일생이 오기 때문이다.']"
      ],
      "execution_count": null,
      "outputs": []
    },
    {
      "cell_type": "code",
      "metadata": {
        "id": "l1WfKIsnpzbs"
      },
      "source": [
        "# 뉴스 데이터셋\n",
        "# document = dataset['title'][:5]\n",
        "\n",
        "from sklearn.feature_extraction.text import TfidfVectorizer\n",
        "Tfidf_vect = TfidfVectorizer()\n",
        "Tfidf = Tfidf_vect.fit_transform(document).toarray()\n",
        "word_column = Tfidf_vect.get_feature_names()"
      ],
      "execution_count": null,
      "outputs": []
    },
    {
      "cell_type": "code",
      "metadata": {
        "colab": {
          "base_uri": "https://localhost:8080/",
          "height": 178
        },
        "id": "PnrwjGrYpzbs",
        "outputId": "1852c60a-d787-4007-8445-71d276faed18"
      },
      "source": [
        "# DTM (TfIdf applied)\n",
        "pd.DataFrame(data=Tfidf, columns=word_column)"
      ],
      "execution_count": null,
      "outputs": [
        {
          "output_type": "execute_result",
          "data": {
            "text/html": [
              "<div>\n",
              "<style scoped>\n",
              "    .dataframe tbody tr th:only-of-type {\n",
              "        vertical-align: middle;\n",
              "    }\n",
              "\n",
              "    .dataframe tbody tr th {\n",
              "        vertical-align: top;\n",
              "    }\n",
              "\n",
              "    .dataframe thead th {\n",
              "        text-align: right;\n",
              "    }\n",
              "</style>\n",
              "<table border=\"1\" class=\"dataframe\">\n",
              "  <thead>\n",
              "    <tr style=\"text-align: right;\">\n",
              "      <th></th>\n",
              "      <th>과거와</th>\n",
              "      <th>그는</th>\n",
              "      <th>그리고</th>\n",
              "      <th>그의</th>\n",
              "      <th>때문이다</th>\n",
              "      <th>미래와</th>\n",
              "      <th>사람의</th>\n",
              "      <th>사람이</th>\n",
              "      <th>실은</th>\n",
              "      <th>어마어마한</th>\n",
              "      <th>오기</th>\n",
              "      <th>온다는</th>\n",
              "      <th>일생이</th>\n",
              "      <th>일이다</th>\n",
              "      <th>함께</th>\n",
              "      <th>현재와</th>\n",
              "    </tr>\n",
              "  </thead>\n",
              "  <tbody>\n",
              "    <tr>\n",
              "      <th>0</th>\n",
              "      <td>0.000000</td>\n",
              "      <td>0.000000</td>\n",
              "      <td>0.000000</td>\n",
              "      <td>0.00000</td>\n",
              "      <td>0.000000</td>\n",
              "      <td>0.000000</td>\n",
              "      <td>0.000000</td>\n",
              "      <td>0.447214</td>\n",
              "      <td>0.447214</td>\n",
              "      <td>0.447214</td>\n",
              "      <td>0.000000</td>\n",
              "      <td>0.447214</td>\n",
              "      <td>0.000000</td>\n",
              "      <td>0.447214</td>\n",
              "      <td>0.000000</td>\n",
              "      <td>0.000000</td>\n",
              "    </tr>\n",
              "    <tr>\n",
              "      <th>1</th>\n",
              "      <td>0.299385</td>\n",
              "      <td>0.299385</td>\n",
              "      <td>0.299385</td>\n",
              "      <td>0.59877</td>\n",
              "      <td>0.227690</td>\n",
              "      <td>0.299385</td>\n",
              "      <td>0.000000</td>\n",
              "      <td>0.000000</td>\n",
              "      <td>0.000000</td>\n",
              "      <td>0.000000</td>\n",
              "      <td>0.227690</td>\n",
              "      <td>0.000000</td>\n",
              "      <td>0.000000</td>\n",
              "      <td>0.000000</td>\n",
              "      <td>0.299385</td>\n",
              "      <td>0.299385</td>\n",
              "    </tr>\n",
              "    <tr>\n",
              "      <th>2</th>\n",
              "      <td>0.000000</td>\n",
              "      <td>0.000000</td>\n",
              "      <td>0.000000</td>\n",
              "      <td>0.00000</td>\n",
              "      <td>0.428046</td>\n",
              "      <td>0.000000</td>\n",
              "      <td>0.562829</td>\n",
              "      <td>0.000000</td>\n",
              "      <td>0.000000</td>\n",
              "      <td>0.000000</td>\n",
              "      <td>0.428046</td>\n",
              "      <td>0.000000</td>\n",
              "      <td>0.562829</td>\n",
              "      <td>0.000000</td>\n",
              "      <td>0.000000</td>\n",
              "      <td>0.000000</td>\n",
              "    </tr>\n",
              "  </tbody>\n",
              "</table>\n",
              "</div>"
            ],
            "text/plain": [
              "        과거와        그는       그리고  ...       일이다        함께       현재와\n",
              "0  0.000000  0.000000  0.000000  ...  0.447214  0.000000  0.000000\n",
              "1  0.299385  0.299385  0.299385  ...  0.000000  0.299385  0.299385\n",
              "2  0.000000  0.000000  0.000000  ...  0.000000  0.000000  0.000000\n",
              "\n",
              "[3 rows x 16 columns]"
            ]
          },
          "metadata": {
            "tags": []
          },
          "execution_count": 17
        }
      ]
    }
  ]
}